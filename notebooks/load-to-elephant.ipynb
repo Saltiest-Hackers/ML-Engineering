{
 "cells": [
  {
   "cell_type": "code",
   "execution_count": 8,
   "metadata": {},
   "outputs": [],
   "source": [
    "import psycopg2\n",
    "from decouple import config\n",
    "\n",
    "!. ../.env\n",
    "\n",
    "conn = psycopg2.connect(\"postgres://\" + config(\"POSTGRES_USERNAME\") + \":\" + config(\"POSTGRES_PASSWORD\") + \"@raja.db.elephantsql.com:5432/mozfsrjp\")\n",
    "curs = conn.cursor()"
   ]
  },
  {
   "cell_type": "code",
   "execution_count": 9,
   "metadata": {},
   "outputs": [],
   "source": [
    "curs.execute(\"\"\"\n",
    "    DROP TABLE comments;\n",
    "\"\"\")"
   ]
  },
  {
   "cell_type": "code",
   "execution_count": 10,
   "metadata": {},
   "outputs": [],
   "source": [
    "curs.execute(\"\"\"\n",
    "    CREATE TABLE comments (\n",
    "        id BIGINT PRIMARY KEY,\n",
    "        author VARCHAR(100),\n",
    "        time BIGINT,\n",
    "        comment_text TEXT,\n",
    "        parent_id BIGINT,\n",
    "        saltiness FLOAT\n",
    "    );\n",
    "\"\"\")"
   ]
  },
  {
   "cell_type": "code",
   "execution_count": 11,
   "metadata": {},
   "outputs": [],
   "source": [
    "curs.close()\n",
    "conn.commit()"
   ]
  },
  {
   "cell_type": "markdown",
   "metadata": {},
   "source": [
    "### Load the CSV"
   ]
  },
  {
   "cell_type": "code",
   "execution_count": 12,
   "metadata": {},
   "outputs": [],
   "source": [
    "import re\n",
    "from vaderSentiment.vaderSentiment import SentimentIntensityAnalyzer\n",
    "\n",
    "analyzer = SentimentIntensityAnalyzer()\n",
    "\n",
    "def escape_string(text):\n",
    "    if isinstance(text, str):\n",
    "        text = re.sub(r\"\\\"\", \"\\\\\\\"\", text)\n",
    "        text = re.sub(r\"'\", \"\\\\'\", text)\n",
    "        return text\n",
    "    else:\n",
    "        return \"-\"\n",
    "\n",
    "def convert_int(x):\n",
    "    try:\n",
    "        return int(x)\n",
    "    except:\n",
    "        return -1\n",
    "\n",
    "def get_saltiness(x):\n",
    "    if isinstance(x, str):\n",
    "        res = analyzer.polarity_scores(x)[\"neg\"]\n",
    "        return res\n",
    "    return 0.0"
   ]
  },
  {
   "cell_type": "code",
   "execution_count": 13,
   "metadata": {},
   "outputs": [],
   "source": [
    "import pandas as pd\n",
    "\n",
    "hn_df = pd.read_csv(\"../csv/most_recent_1_5mm.csv\")"
   ]
  },
  {
   "cell_type": "code",
   "execution_count": 77,
   "metadata": {},
   "outputs": [],
   "source": [
    "top_1000 = hn_df[\"author\"].value_counts().index[:1000]\n",
    "hn_df = hn_df[hn_df[\"author\"].isin(top_1000)]"
   ]
  },
  {
   "cell_type": "code",
   "execution_count": 14,
   "metadata": {},
   "outputs": [
    {
     "name": "stdout",
     "output_type": "stream",
     "text": [
      "Batch 0 / 1499356 -- 0.00%\n",
      "Batch 10000 / 1499356 -- 0.67%\n",
      "Batch 20000 / 1499356 -- 1.33%\n",
      "Batch 30000 / 1499356 -- 2.00%\n",
      "Batch 40000 / 1499356 -- 2.67%\n",
      "Batch 50000 / 1499356 -- 3.33%\n",
      "Batch 60000 / 1499356 -- 4.00%\n",
      "Batch 70000 / 1499356 -- 4.67%\n",
      "Batch 80000 / 1499356 -- 5.34%\n",
      "Batch 90000 / 1499356 -- 6.00%\n",
      "Batch 100000 / 1499356 -- 6.67%\n",
      "Batch 110000 / 1499356 -- 7.34%\n",
      "Batch 120000 / 1499356 -- 8.00%\n",
      "Batch 130000 / 1499356 -- 8.67%\n",
      "Batch 140000 / 1499356 -- 9.34%\n",
      "Batch 150000 / 1499356 -- 10.00%\n",
      "Batch 160000 / 1499356 -- 10.67%\n",
      "Batch 170000 / 1499356 -- 11.34%\n",
      "Batch 180000 / 1499356 -- 12.01%\n",
      "Batch 190000 / 1499356 -- 12.67%\n",
      "Batch 200000 / 1499356 -- 13.34%\n",
      "Batch 210000 / 1499356 -- 14.01%\n",
      "Batch 220000 / 1499356 -- 14.67%\n",
      "Batch 230000 / 1499356 -- 15.34%\n",
      "Batch 240000 / 1499356 -- 16.01%\n",
      "Batch 250000 / 1499356 -- 16.67%\n",
      "Batch 260000 / 1499356 -- 17.34%\n",
      "Batch 270000 / 1499356 -- 18.01%\n",
      "Batch 280000 / 1499356 -- 18.67%\n",
      "Batch 290000 / 1499356 -- 19.34%\n",
      "Batch 300000 / 1499356 -- 20.01%\n",
      "Batch 310000 / 1499356 -- 20.68%\n",
      "Batch 320000 / 1499356 -- 21.34%\n",
      "Batch 330000 / 1499356 -- 22.01%\n",
      "Batch 340000 / 1499356 -- 22.68%\n",
      "Batch 350000 / 1499356 -- 23.34%\n",
      "Batch 360000 / 1499356 -- 24.01%\n",
      "Batch 370000 / 1499356 -- 24.68%\n",
      "Batch 380000 / 1499356 -- 25.34%\n",
      "Batch 390000 / 1499356 -- 26.01%\n",
      "Batch 400000 / 1499356 -- 26.68%\n",
      "Batch 410000 / 1499356 -- 27.35%\n",
      "Batch 420000 / 1499356 -- 28.01%\n",
      "Batch 430000 / 1499356 -- 28.68%\n",
      "Batch 440000 / 1499356 -- 29.35%\n",
      "Batch 450000 / 1499356 -- 30.01%\n",
      "Batch 460000 / 1499356 -- 30.68%\n",
      "Batch 470000 / 1499356 -- 31.35%\n",
      "Batch 480000 / 1499356 -- 32.01%\n",
      "Batch 490000 / 1499356 -- 32.68%\n",
      "Batch 500000 / 1499356 -- 33.35%\n",
      "Batch 510000 / 1499356 -- 34.01%\n",
      "Batch 520000 / 1499356 -- 34.68%\n",
      "Batch 530000 / 1499356 -- 35.35%\n",
      "Batch 540000 / 1499356 -- 36.02%\n",
      "Batch 550000 / 1499356 -- 36.68%\n",
      "Batch 560000 / 1499356 -- 37.35%\n",
      "Batch 570000 / 1499356 -- 38.02%\n",
      "Batch 580000 / 1499356 -- 38.68%\n",
      "Batch 590000 / 1499356 -- 39.35%\n",
      "Batch 600000 / 1499356 -- 40.02%\n",
      "Batch 610000 / 1499356 -- 40.68%\n",
      "Batch 620000 / 1499356 -- 41.35%\n",
      "Batch 630000 / 1499356 -- 42.02%\n",
      "Batch 640000 / 1499356 -- 42.68%\n",
      "Batch 650000 / 1499356 -- 43.35%\n",
      "Batch 660000 / 1499356 -- 44.02%\n",
      "Batch 670000 / 1499356 -- 44.69%\n",
      "Batch 680000 / 1499356 -- 45.35%\n",
      "Batch 690000 / 1499356 -- 46.02%\n",
      "Batch 700000 / 1499356 -- 46.69%\n",
      "Batch 710000 / 1499356 -- 47.35%\n",
      "Batch 720000 / 1499356 -- 48.02%\n",
      "Batch 730000 / 1499356 -- 48.69%\n",
      "Batch 740000 / 1499356 -- 49.35%\n",
      "Batch 750000 / 1499356 -- 50.02%\n",
      "Batch 760000 / 1499356 -- 50.69%\n",
      "Batch 770000 / 1499356 -- 51.36%\n",
      "Batch 780000 / 1499356 -- 52.02%\n",
      "Batch 790000 / 1499356 -- 52.69%\n",
      "Batch 800000 / 1499356 -- 53.36%\n",
      "Batch 810000 / 1499356 -- 54.02%\n",
      "Batch 820000 / 1499356 -- 54.69%\n",
      "Batch 830000 / 1499356 -- 55.36%\n",
      "Batch 840000 / 1499356 -- 56.02%\n",
      "Batch 850000 / 1499356 -- 56.69%\n",
      "Batch 860000 / 1499356 -- 57.36%\n",
      "Batch 870000 / 1499356 -- 58.02%\n",
      "Batch 880000 / 1499356 -- 58.69%\n",
      "Batch 890000 / 1499356 -- 59.36%\n",
      "Batch 900000 / 1499356 -- 60.03%\n",
      "Batch 910000 / 1499356 -- 60.69%\n",
      "Batch 920000 / 1499356 -- 61.36%\n",
      "Batch 930000 / 1499356 -- 62.03%\n",
      "Batch 940000 / 1499356 -- 62.69%\n",
      "Batch 950000 / 1499356 -- 63.36%\n",
      "Batch 960000 / 1499356 -- 64.03%\n",
      "Batch 970000 / 1499356 -- 64.69%\n",
      "Batch 980000 / 1499356 -- 65.36%\n",
      "Batch 990000 / 1499356 -- 66.03%\n",
      "Batch 1000000 / 1499356 -- 66.70%\n",
      "Batch 1010000 / 1499356 -- 67.36%\n",
      "Batch 1020000 / 1499356 -- 68.03%\n",
      "Batch 1030000 / 1499356 -- 68.70%\n",
      "Batch 1040000 / 1499356 -- 69.36%\n",
      "Batch 1050000 / 1499356 -- 70.03%\n",
      "Batch 1060000 / 1499356 -- 70.70%\n",
      "Batch 1070000 / 1499356 -- 71.36%\n",
      "Batch 1080000 / 1499356 -- 72.03%\n",
      "Batch 1090000 / 1499356 -- 72.70%\n",
      "Batch 1100000 / 1499356 -- 73.36%\n",
      "Batch 1110000 / 1499356 -- 74.03%\n",
      "Batch 1120000 / 1499356 -- 74.70%\n",
      "Batch 1130000 / 1499356 -- 75.37%\n",
      "Batch 1140000 / 1499356 -- 76.03%\n",
      "Batch 1150000 / 1499356 -- 76.70%\n",
      "Batch 1160000 / 1499356 -- 77.37%\n",
      "Batch 1170000 / 1499356 -- 78.03%\n",
      "Batch 1180000 / 1499356 -- 78.70%\n",
      "Batch 1190000 / 1499356 -- 79.37%\n",
      "Batch 1200000 / 1499356 -- 80.03%\n",
      "Batch 1210000 / 1499356 -- 80.70%\n",
      "Batch 1220000 / 1499356 -- 81.37%\n",
      "Batch 1230000 / 1499356 -- 82.04%\n",
      "Batch 1240000 / 1499356 -- 82.70%\n",
      "Batch 1250000 / 1499356 -- 83.37%\n",
      "Batch 1260000 / 1499356 -- 84.04%\n",
      "Batch 1270000 / 1499356 -- 84.70%\n",
      "Batch 1280000 / 1499356 -- 85.37%\n",
      "Batch 1290000 / 1499356 -- 86.04%\n",
      "Batch 1300000 / 1499356 -- 86.70%\n",
      "Batch 1310000 / 1499356 -- 87.37%\n",
      "Batch 1320000 / 1499356 -- 88.04%\n",
      "Batch 1330000 / 1499356 -- 88.70%\n",
      "Batch 1340000 / 1499356 -- 89.37%\n",
      "Batch 1350000 / 1499356 -- 90.04%\n",
      "Batch 1360000 / 1499356 -- 90.71%\n",
      "Batch 1370000 / 1499356 -- 91.37%\n",
      "Batch 1380000 / 1499356 -- 92.04%\n",
      "Batch 1390000 / 1499356 -- 92.71%\n",
      "Batch 1400000 / 1499356 -- 93.37%\n",
      "Batch 1410000 / 1499356 -- 94.04%\n",
      "Batch 1420000 / 1499356 -- 94.71%\n",
      "Batch 1430000 / 1499356 -- 95.37%\n",
      "Batch 1440000 / 1499356 -- 96.04%\n",
      "Batch 1450000 / 1499356 -- 96.71%\n",
      "Batch 1460000 / 1499356 -- 97.38%\n",
      "Batch 1470000 / 1499356 -- 98.04%\n",
      "Batch 1480000 / 1499356 -- 98.71%\n",
      "Batch 1490000 / 1499356 -- 99.38%\n"
     ]
    }
   ],
   "source": [
    "from psycopg2.extras import execute_batch\n",
    "\n",
    "batchsize = 10000\n",
    "import numpy as np\n",
    "\n",
    "for ix in range(0, len(hn_df)+1, batchsize):\n",
    "    \n",
    "    print(f\"Batch {ix} / {len(hn_df)} -- {ix/len(hn_df)*100:.2f}%\")\n",
    "    \n",
    "    batch = hn_df[ix:ix+batchsize]\n",
    "    batch = [\n",
    "        [\n",
    "            row[1][1],\n",
    "            row[1][2],\n",
    "            row[1][3],\n",
    "            row[1][4],\n",
    "            convert_int(row[1][7]),\n",
    "            get_saltiness(row[1][4]),\n",
    "        ]\n",
    "        for row in batch.iterrows()\n",
    "    ]\n",
    "    \n",
    "    query = \"\"\"\n",
    "        INSERT INTO comments (id, author, time, comment_text, parent_id, saltiness)\n",
    "        VALUES (%s, %s, %s, %s, %s, %s);\n",
    "    \"\"\"\n",
    "    \n",
    "    curs = conn.cursor()\n",
    "    execute_batch(curs, query, batch)\n",
    "    curs.close()"
   ]
  },
  {
   "cell_type": "code",
   "execution_count": 15,
   "metadata": {},
   "outputs": [],
   "source": [
    "conn.commit()"
   ]
  },
  {
   "cell_type": "code",
   "execution_count": 16,
   "metadata": {},
   "outputs": [],
   "source": [
    "query = \"\"\"\n",
    "    SELECT *\n",
    "    FROM comments\n",
    "    LIMIT 1000\n",
    "\"\"\"\n",
    "curs = conn.cursor()\n",
    "curs.execute(query)\n",
    "res = curs.fetchall()"
   ]
  },
  {
   "cell_type": "code",
   "execution_count": 17,
   "metadata": {},
   "outputs": [
    {
     "data": {
      "text/plain": [
       "(20954035,\n",
       " 'chrisnager',\n",
       " 1568309269,\n",
       " 'Such a great idea. Thank you!',\n",
       " 20948826,\n",
       " 0.0)"
      ]
     },
     "execution_count": 17,
     "metadata": {},
     "output_type": "execute_result"
    }
   ],
   "source": [
    "res[0]"
   ]
  },
  {
   "cell_type": "code",
   "execution_count": 18,
   "metadata": {},
   "outputs": [
    {
     "data": {
      "text/plain": [
       "(20954038,\n",
       " 'weare138',\n",
       " 1568309300,\n",
       " '&gt; Most software engineers have a healthy circle of friends and social life.<p>I understand the point you&#x27;re trying to make but this isn&#x27;t a truism. It&#x27;s a subjective opinion that wouldn&#x27;t apply to any industry much less tech, which itself isn&#x27;t specific to software engineering. This is an issue that effects all specialized fields of study, interests and careers. I don&#x27;t feel generalizing the issue in a blanket statement that the problem is specific to the individual in question and somehow not related to circumstances beyond that individual&#x27;s control is beneficial to the OP and anyone dealing with similar issues.<p>How many people can astronauts have honest conversations with about traveling in space that other people would understand and empathize with? Obviously very few, but it would be inaccurate and irresponsible to lay blame on an astronaut if they feel socially isolated as a result.<p>Later in your post you use a loaded, weasel worded statement that I strongly disagree with, which again seems to again lay blame on the OP for their honest and earnest concern:<p>&quot;It could be depression, anxiety, it could be poor social skills. It is possible (maybe less likely) that you have little interest in deep social connections&quot;<p>It &quot;could&quot; be any number of things but only one perspective is being addressed. Implying that someone&#x27;s failure to conform to our ever changing, opinionated and perceived social &quot;norm&quot; is the cause of their issues and concerns is not helping anyone.',\n",
       " 20952809,\n",
       " 0.136)"
      ]
     },
     "execution_count": 18,
     "metadata": {},
     "output_type": "execute_result"
    }
   ],
   "source": [
    "res[3]"
   ]
  },
  {
   "cell_type": "code",
   "execution_count": null,
   "metadata": {},
   "outputs": [],
   "source": []
  }
 ],
 "metadata": {
  "kernelspec": {
   "display_name": "Python 3",
   "language": "python",
   "name": "python3"
  },
  "language_info": {
   "codemirror_mode": {
    "name": "ipython",
    "version": 3
   },
   "file_extension": ".py",
   "mimetype": "text/x-python",
   "name": "python",
   "nbconvert_exporter": "python",
   "pygments_lexer": "ipython3",
   "version": "3.6.9"
  }
 },
 "nbformat": 4,
 "nbformat_minor": 4
}
