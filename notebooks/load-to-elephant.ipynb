{
 "cells": [
  {
   "cell_type": "code",
   "execution_count": 1,
   "metadata": {},
   "outputs": [],
   "source": [
    "import psycopg2\n",
    "from decouple import config\n",
    "\n",
    "!. ../.env\n",
    "\n",
    "conn = psycopg2.connect(\"postgres://\" + config(\"POSTGRES_USERNAME\") + \":\" + config(\"POSTGRES_PASSWORD\") + \"@raja.db.elephantsql.com:5432/mozfsrjp\")\n",
    "curs = conn.cursor()"
   ]
  },
  {
   "cell_type": "code",
   "execution_count": 2,
   "metadata": {},
   "outputs": [],
   "source": [
    "curs.execute(\"\"\"\n",
    "    DROP TABLE comments2;\n",
    "\"\"\")"
   ]
  },
  {
   "cell_type": "code",
   "execution_count": 3,
   "metadata": {},
   "outputs": [],
   "source": [
    "curs.execute(\"\"\"\n",
    "    CREATE TABLE comments2 (\n",
    "        id BIGINT PRIMARY KEY,\n",
    "        author VARCHAR(100),\n",
    "        time BIGINT,\n",
    "        comment_text TEXT,\n",
    "        parent_id BIGINT,\n",
    "        saltiness FLOAT\n",
    "    );\n",
    "\"\"\")"
   ]
  },
  {
   "cell_type": "code",
   "execution_count": 4,
   "metadata": {},
   "outputs": [],
   "source": [
    "curs.close()\n",
    "conn.commit()"
   ]
  },
  {
   "cell_type": "markdown",
   "metadata": {},
   "source": [
    "### Load the CSV"
   ]
  },
  {
   "cell_type": "code",
   "execution_count": 5,
   "metadata": {},
   "outputs": [],
   "source": [
    "import re\n",
    "from vaderSentiment.vaderSentiment import SentimentIntensityAnalyzer\n",
    "\n",
    "analyzer = SentimentIntensityAnalyzer()\n",
    "\n",
    "def escape_string(text):\n",
    "    if isinstance(text, str):\n",
    "        text = re.sub(r\"\\\"\", \"\\\\\\\"\", text)\n",
    "        text = re.sub(r\"'\", \"\\\\'\", text)\n",
    "        return text\n",
    "    else:\n",
    "        return \"-\"\n",
    "\n",
    "def convert_int(x):\n",
    "    try:\n",
    "        return int(x)\n",
    "    except:\n",
    "        return -1\n",
    "\n",
    "def get_saltiness(x):\n",
    "    if isinstance(x, str):\n",
    "        res = analyzer.polarity_scores(x)[\"neg\"]\n",
    "        return res\n",
    "    return 0.0"
   ]
  },
  {
   "cell_type": "code",
   "execution_count": 6,
   "metadata": {},
   "outputs": [],
   "source": [
    "def refine(df):\n",
    "    \n",
    "    df = df.loc[df['type'] == 'comment']\n",
    "    df = df.loc[df['author'].isnull() == False]\n",
    "    df = df[['id', 'time', 'author', 'parent', 'text', 'type']]\n",
    "    df['parent'] = df['parent'].astype(int)    \n",
    "    return df\n",
    "\n",
    "def scrub(doc):\n",
    "    patt = {\n",
    "            \"unicode_patt\": \"&.{4}(?=;);\",\n",
    "            \"line_break\":   \"<p>\",\n",
    "            \"href_patt\":    \"<a.*</a>\",\n",
    "            \"quote\":        \"&quot;\",\n",
    "            \"html_footnote\": \"\\[.\\]\",\n",
    "            \"punctuation\":   \"[^\\w\\s]\",\n",
    "            \"numbers\":       \"[^A-Za-z\\s]\",\n",
    "        }\n",
    "    \n",
    "    r = rf'|'.join(patt.values())\n",
    "    return re.sub(r, ' ', str(doc))\n",
    "\n",
    "def process_text(df):\n",
    "    \n",
    "    # regex\n",
    "    df['processed_text'] = df['text'].apply(scrub)\n",
    "    # lowercase\n",
    "    df['processed_text'] = df['processed_text'].str.lower()\n",
    "    # double spaces\n",
    "    df['processed_text'] = df['processed_text'].str.replace(r'\\s+', ' ')\n",
    "    \n",
    "    \n",
    "    # word freq\n",
    "    word_freq = pd.Series(' '.join(df['processed_text']).split()).value_counts()\n",
    "    \n",
    "    common = list(word_freq[:10].index)\n",
    "    rare = list(word_freq[word_freq.values < 2].index)\n",
    "    \n",
    "    stop_words = list(nltk.corpus.stopwords.words('english'))    \n",
    "    stop_words = set(stop_words + common + rare)\n",
    "    \n",
    "    print('removing stopwords')\n",
    "    pat = r'\\b(?:{})\\b'.format('|'.join(stop_words))\n",
    "    \n",
    "    df['no_stopwords'] = df['processed_text'].str.replace(pat, '')\n",
    "    df['no_stopwords'] = df['no_stopwords'].str.replace(r'\\s+', ' ')\n",
    "    \n",
    "    # remove less than 2 words\n",
    "    df = df[df[\"no_stopwords\"].str.split(\" \").apply(lambda x: len(x)) > 2]\n",
    "    \n",
    "    return df"
   ]
  },
  {
   "cell_type": "code",
   "execution_count": 7,
   "metadata": {},
   "outputs": [],
   "source": [
    "import pandas as pd\n",
    "\n",
    "hn_df = pd.read_csv(\"../csv/most_recent_1_5mm.csv\")"
   ]
  },
  {
   "cell_type": "code",
   "execution_count": 7,
   "metadata": {},
   "outputs": [],
   "source": [
    "top_1000 = hn_df[\"author\"].value_counts().index[:1000]\n",
    "hn_df = hn_df[hn_df[\"author\"].isin(top_1000)]"
   ]
  },
  {
   "cell_type": "code",
   "execution_count": null,
   "metadata": {},
   "outputs": [
    {
     "name": "stdout",
     "output_type": "stream",
     "text": [
      "Batch 520000 / 1499356 -- 34.68%\n"
     ]
    },
    {
     "name": "stderr",
     "output_type": "stream",
     "text": [
      "/home/cowley/venv/lambda/lib/python3.6/site-packages/ipykernel_launcher.py:26: SettingWithCopyWarning: \n",
      "A value is trying to be set on a copy of a slice from a DataFrame.\n",
      "Try using .loc[row_indexer,col_indexer] = value instead\n",
      "\n",
      "See the caveats in the documentation: https://pandas.pydata.org/pandas-docs/stable/user_guide/indexing.html#returning-a-view-versus-a-copy\n",
      "/home/cowley/venv/lambda/lib/python3.6/site-packages/ipykernel_launcher.py:28: SettingWithCopyWarning: \n",
      "A value is trying to be set on a copy of a slice from a DataFrame.\n",
      "Try using .loc[row_indexer,col_indexer] = value instead\n",
      "\n",
      "See the caveats in the documentation: https://pandas.pydata.org/pandas-docs/stable/user_guide/indexing.html#returning-a-view-versus-a-copy\n",
      "/home/cowley/venv/lambda/lib/python3.6/site-packages/ipykernel_launcher.py:30: SettingWithCopyWarning: \n",
      "A value is trying to be set on a copy of a slice from a DataFrame.\n",
      "Try using .loc[row_indexer,col_indexer] = value instead\n",
      "\n",
      "See the caveats in the documentation: https://pandas.pydata.org/pandas-docs/stable/user_guide/indexing.html#returning-a-view-versus-a-copy\n"
     ]
    },
    {
     "name": "stdout",
     "output_type": "stream",
     "text": [
      "removing stopwords\n"
     ]
    },
    {
     "name": "stderr",
     "output_type": "stream",
     "text": [
      "/home/cowley/venv/lambda/lib/python3.6/site-packages/ipykernel_launcher.py:45: SettingWithCopyWarning: \n",
      "A value is trying to be set on a copy of a slice from a DataFrame.\n",
      "Try using .loc[row_indexer,col_indexer] = value instead\n",
      "\n",
      "See the caveats in the documentation: https://pandas.pydata.org/pandas-docs/stable/user_guide/indexing.html#returning-a-view-versus-a-copy\n",
      "/home/cowley/venv/lambda/lib/python3.6/site-packages/ipykernel_launcher.py:46: SettingWithCopyWarning: \n",
      "A value is trying to be set on a copy of a slice from a DataFrame.\n",
      "Try using .loc[row_indexer,col_indexer] = value instead\n",
      "\n",
      "See the caveats in the documentation: https://pandas.pydata.org/pandas-docs/stable/user_guide/indexing.html#returning-a-view-versus-a-copy\n"
     ]
    },
    {
     "name": "stdout",
     "output_type": "stream",
     "text": [
      "Batch 530000 / 1499356 -- 35.35%\n",
      "removing stopwords\n",
      "Batch 540000 / 1499356 -- 36.02%\n",
      "removing stopwords\n",
      "Batch 550000 / 1499356 -- 36.68%\n",
      "removing stopwords\n",
      "Batch 560000 / 1499356 -- 37.35%\n",
      "removing stopwords\n",
      "Batch 570000 / 1499356 -- 38.02%\n",
      "removing stopwords\n",
      "Batch 580000 / 1499356 -- 38.68%\n",
      "removing stopwords\n",
      "Batch 590000 / 1499356 -- 39.35%\n",
      "removing stopwords\n",
      "Batch 600000 / 1499356 -- 40.02%\n",
      "removing stopwords\n",
      "Batch 610000 / 1499356 -- 40.68%\n",
      "removing stopwords\n",
      "Batch 620000 / 1499356 -- 41.35%\n",
      "removing stopwords\n",
      "Batch 630000 / 1499356 -- 42.02%\n",
      "removing stopwords\n",
      "Batch 640000 / 1499356 -- 42.68%\n",
      "removing stopwords\n",
      "Batch 650000 / 1499356 -- 43.35%\n",
      "removing stopwords\n",
      "Batch 660000 / 1499356 -- 44.02%\n",
      "removing stopwords\n",
      "Batch 670000 / 1499356 -- 44.69%\n",
      "removing stopwords\n",
      "Batch 680000 / 1499356 -- 45.35%\n",
      "removing stopwords\n",
      "Batch 690000 / 1499356 -- 46.02%\n",
      "removing stopwords\n",
      "Batch 700000 / 1499356 -- 46.69%\n",
      "removing stopwords\n",
      "Batch 710000 / 1499356 -- 47.35%\n",
      "removing stopwords\n",
      "Batch 720000 / 1499356 -- 48.02%\n",
      "removing stopwords\n",
      "Batch 730000 / 1499356 -- 48.69%\n",
      "removing stopwords\n",
      "Batch 740000 / 1499356 -- 49.35%\n",
      "removing stopwords\n",
      "Batch 750000 / 1499356 -- 50.02%\n",
      "removing stopwords\n",
      "Batch 760000 / 1499356 -- 50.69%\n",
      "removing stopwords\n",
      "Batch 770000 / 1499356 -- 51.36%\n",
      "removing stopwords\n",
      "Batch 780000 / 1499356 -- 52.02%\n",
      "removing stopwords\n",
      "Batch 790000 / 1499356 -- 52.69%\n",
      "removing stopwords\n",
      "Batch 800000 / 1499356 -- 53.36%\n",
      "removing stopwords\n",
      "Batch 810000 / 1499356 -- 54.02%\n",
      "removing stopwords\n",
      "Batch 820000 / 1499356 -- 54.69%\n",
      "removing stopwords\n",
      "Batch 830000 / 1499356 -- 55.36%\n",
      "removing stopwords\n",
      "Batch 840000 / 1499356 -- 56.02%\n",
      "removing stopwords\n",
      "Batch 850000 / 1499356 -- 56.69%\n",
      "removing stopwords\n",
      "Batch 860000 / 1499356 -- 57.36%\n",
      "removing stopwords\n",
      "Batch 870000 / 1499356 -- 58.02%\n",
      "removing stopwords\n",
      "Batch 880000 / 1499356 -- 58.69%\n",
      "removing stopwords\n",
      "Batch 890000 / 1499356 -- 59.36%\n",
      "removing stopwords\n",
      "Batch 900000 / 1499356 -- 60.03%\n",
      "removing stopwords\n",
      "Batch 910000 / 1499356 -- 60.69%\n",
      "removing stopwords\n"
     ]
    }
   ],
   "source": [
    "from psycopg2.extras import execute_batch\n",
    "import numpy as np\n",
    "import nltk\n",
    "\n",
    "batchsize = 10000\n",
    "\n",
    "for ix in range(520000, len(hn_df)+1, batchsize):\n",
    "    \n",
    "    print(f\"Batch {ix} / {len(hn_df)} -- {ix/len(hn_df)*100:.2f}%\")\n",
    "    \n",
    "    batch = hn_df[ix:ix+batchsize]\n",
    "    batch = process_text(batch)\n",
    "    \n",
    "    batch = [\n",
    "        [\n",
    "            row[1][1],\n",
    "            row[1][2],\n",
    "            row[1][3],\n",
    "            row[1][4],\n",
    "            convert_int(row[1][7]),\n",
    "            get_saltiness(row[1][4]),\n",
    "        ]\n",
    "        for row in batch.iterrows()\n",
    "    ]\n",
    "    \n",
    "    query = \"\"\"\n",
    "        INSERT INTO comments2 (id, author, time, comment_text, parent_id, saltiness)\n",
    "        VALUES (%s, %s, %s, %s, %s, %s);\n",
    "    \"\"\"\n",
    "    \n",
    "    curs = conn.cursor()\n",
    "    execute_batch(curs, query, batch)\n",
    "    curs.close()"
   ]
  },
  {
   "cell_type": "code",
   "execution_count": null,
   "metadata": {},
   "outputs": [],
   "source": [
    "conn.commit()"
   ]
  },
  {
   "cell_type": "code",
   "execution_count": null,
   "metadata": {},
   "outputs": [],
   "source": [
    "query = \"\"\"\n",
    "    SELECT *\n",
    "    FROM comments\n",
    "    LIMIT 1000\n",
    "\"\"\"\n",
    "curs = conn.cursor()\n",
    "curs.execute(query)\n",
    "res = curs.fetchall()"
   ]
  },
  {
   "cell_type": "code",
   "execution_count": null,
   "metadata": {},
   "outputs": [],
   "source": [
    "res[0]"
   ]
  },
  {
   "cell_type": "code",
   "execution_count": 59,
   "metadata": {},
   "outputs": [
    {
     "data": {
      "text/plain": [
       "(22310905,\n",
       " 'apta',\n",
       " 1581529723,\n",
       " 'Ah yes, the alcohol excuse. Who would have thought that allowing alcohol on flights wasn&#x27;t the best idea?',\n",
       " 22309335,\n",
       " 0.0)"
      ]
     },
     "execution_count": 59,
     "metadata": {},
     "output_type": "execute_result"
    }
   ],
   "source": [
    "res[3]"
   ]
  },
  {
   "cell_type": "code",
   "execution_count": 28,
   "metadata": {},
   "outputs": [],
   "source": [
    "from datetime import datetime, timedelta\n",
    "\n",
    "hn_df[\"time_dt\"] = hn_df[\"time\"].apply(datetime.utcfromtimestamp)"
   ]
  },
  {
   "cell_type": "code",
   "execution_count": 32,
   "metadata": {},
   "outputs": [],
   "source": [
    "three_months_ago = (datetime.utcnow() - timedelta(90)).timestamp()"
   ]
  },
  {
   "cell_type": "code",
   "execution_count": 35,
   "metadata": {},
   "outputs": [],
   "source": [
    "query = \"\"\"\n",
    "    DELETE FROM comments\n",
    "    WHERE comments.time < %s;\n",
    "\"\"\"\n",
    "curs = conn.cursor()\n",
    "curs.execute(query, [three_months_ago])\n",
    "conn.commit()"
   ]
  },
  {
   "cell_type": "code",
   "execution_count": 36,
   "metadata": {},
   "outputs": [
    {
     "data": {
      "text/plain": [
       "(754093,)"
      ]
     },
     "execution_count": 36,
     "metadata": {},
     "output_type": "execute_result"
    }
   ],
   "source": [
    "curs = conn.cursor()\n",
    "curs.execute(\"\"\"\n",
    "    SELECT COUNT(*)\n",
    "    FROM comments;\n",
    "\"\"\")\n",
    "curs.fetchone()"
   ]
  },
  {
   "cell_type": "code",
   "execution_count": 55,
   "metadata": {},
   "outputs": [],
   "source": [
    "query = \"\"\"\n",
    "    SELECT *\n",
    "    FROM comments\n",
    "    WHERE LENGTH(comment_text) > 3\n",
    "    ORDER BY saltiness DESC\n",
    "    LIMIT 100\n",
    "\"\"\"\n",
    "curs = conn.cursor()\n",
    "curs.execute(query)\n",
    "res = curs.fetchall()"
   ]
  },
  {
   "cell_type": "code",
   "execution_count": 56,
   "metadata": {},
   "outputs": [
    {
     "data": {
      "text/plain": [
       "[(22295248, 'jpseawell', 1581385590, 'Scary shit.', 22294841, 1.0),\n",
       " (22407657, 'thatdrew', 1582573583, 'wrong.', 22393828, 1.0),\n",
       " (21915733, 'hyperbovine', 1577732100, 'Demand.', 21907811, 1.0),\n",
       " (22118709, 'Accujack', 1579709246, 'Spam.', 22116657, 1.0),\n",
       " (22113584, 'pedramnegahdar', 1579655578, 'Pathetic.', 22106536, 1.0),\n",
       " (22011882, 'Melkor765', 1578672239, 'Selfish', 22008441, 1.0),\n",
       " (21734037, 'wnmurphy', 1575772629, 'Seriously.', 21733689, 1.0),\n",
       " (22091749, 'brandchirps', 1579446106, 'no, sorry.', 22089473, 1.0),\n",
       " (22384612, 'the_other', 1582304286, 'STOP!', 22384286, 1.0),\n",
       " (22200449, 'LatteLazy', 1580465339, 'SPAM', 22200400, 1.0),\n",
       " (22422156, 'zulgan', 1582717326, 'rebel.', 22422133, 1.0),\n",
       " (21990162, 'Pusha_Drugz', 1578479615, 'sad :(', 21989961, 1.0),\n",
       " (22126501, 'badrabbit', 1579777158, 'Misinformation', 22125277, 1.0),\n",
       " (21711215, 'bayesian_horse', 1575540843, 'Depressing.', 21710564, 1.0),\n",
       " (21751194, 'googlycooly', 1575972799, 'SPAM!', 21751156, 1.0),\n",
       " (22154160, 'stared', 1580067162, 'Seriously?', 22154021, 1.0),\n",
       " (22321252, 'wyxuan', 1581626603, 'Dupe', 22320522, 1.0),\n",
       " (21918038, 'RL_Quine', 1577752665, 'Bullshit.', 21917505, 1.0),\n",
       " (22121241, 'istorical', 1579722325, 'Loneliness.', 22120414, 1.0),\n",
       " (21790198, 'tehlike', 1576340026, 'Sorry!', 21790173, 1.0),\n",
       " (22202616, 'elvisjames', 1580485918, 'Useless', 22202564, 1.0),\n",
       " (21853906, 'jacob019', 1576970253, 'jealous', 21851299, 1.0),\n",
       " (22029834, 'mattbillenstein', 1578866515, 'WORSE', 22029445, 1.0),\n",
       " (22227971, 'sproketboy', 1580758134, 'FAIL.', 22227266, 1.0),\n",
       " (22239721, 'eshyong', 1580843641, 'No problem!', 22231064, 1.0),\n",
       " (21888364, 'pizzaknife', 1577410255, 'terrifying.', 21886864, 1.0),\n",
       " (22291266, 'shakopeeant', 1581356163, 'gross', 22290947, 1.0),\n",
       " (21709846, 'quotemstr', 1575518043, 'Brutal.', 21709496, 1.0),\n",
       " (22299319, 'Redoubts', 1581435778, 'Disgusting.', 22297422, 1.0),\n",
       " (22165741, 'danielg6', 1580176684, 'Racism', 22165725, 1.0),\n",
       " (22210746, 'sys_64738', 1580568473, 'Resigning.', 22210361, 1.0),\n",
       " (21825091, 'zzzzznkkr', 1576678992, 'Stop bullying', 21811102, 1.0),\n",
       " (22016463, 'kingo55', 1578696529, 'Bittersweet?', 22016262, 1.0),\n",
       " (22309956, 'AdriaanvRossum', 1581523675, 'No worries!', 22309920, 1.0),\n",
       " (22091881, 'pg_is_a_butt', 1579447594, 'dumb fucks', 22091864, 1.0),\n",
       " (21805569, 'burrows', 1576520860, 'Nerd.', 21805467, 1.0),\n",
       " (22196620, 'KoftaBob', 1580423764, 'Pathetic.', 22195426, 1.0),\n",
       " (21905147, 'ta999999171', 1577614589, 'Controversial.', 21905071, 1.0),\n",
       " (22234606, 'mosselman', 1580817792, 'Wtf?', 22234343, 1.0),\n",
       " (21966650, 'slater', 1578287752, 'wth?', 21962972, 1.0),\n",
       " (21987464, 'edisonjoao', 1578448451, 'damn', 21913440, 1.0),\n",
       " (21986284, 'juped', 1578438761, 'I disagree.', 21985545, 1.0),\n",
       " (22112257, 'dhosek', 1579644937, 'irony', 22112250, 1.0),\n",
       " (22105061, 'Nextgrid', 1579593074, 'No worries!', 22105046, 1.0),\n",
       " (22208088, 'SirLJ', 1580523102, 'Dupe', 22198429, 1.0),\n",
       " (22065271, 'bevesce-', 1579187932, 'Warsaw', 22064414, 1.0),\n",
       " (22018031, 'xenospn', 1578715301, 'Unclear.', 22017921, 1.0),\n",
       " (21744515, 'Robotbeat', 1575912861, 'Revenge.', 21743782, 1.0),\n",
       " (21761692, 'Katzenjammer', 1576066035, 'Disgusting', 21761376, 1.0),\n",
       " (22272638, 'draw_down', 1581121213, 'Madness.', 22272506, 1.0),\n",
       " (22238665, 'vsyu', 1580838838, 'Insane!', 22237033, 1.0),\n",
       " (22176344, 'maxDemianx', 1580262320, 'Sarcasm.', 22176027, 1.0),\n",
       " (21911578, 'akerro', 1577692409, 'Ironic.', 21909688, 1.0),\n",
       " (22005707, 'sincerely', 1578603756, 'No, no, no', 22005403, 1.0),\n",
       " (22031587, 'a-dub', 1578886021, 'greed.', 22031567, 1.0),\n",
       " (21769784, 'masonic', 1576132945, 'Leak.', 21769249, 1.0),\n",
       " (22058083, 'TheTruth321', 1579119889, 'Shame.', 22057322, 1.0),\n",
       " (21970949, 'moretai', 1578331402, 'exposed!', 21970911, 1.0),\n",
       " (21975942, 'sunyata', 1578362162, 'Gross!', 21975821, 1.0),\n",
       " (22024018, 'matz1', 1578795736, 'Serious', 22023372, 1.0),\n",
       " (22341149, 'Proven', 1581854281, 'Nonsense', 22339067, 1.0),\n",
       " (21739326, 'jambrosia', 1575849033, 'Bullshit.', 21738830, 1.0),\n",
       " (22391070, 'vinniejames', 1582380293, 'Scam', 22391046, 1.0),\n",
       " (21716354, 'selimnairb', 1575579142, 'No shit.', 21710280, 1.0),\n",
       " (22220771, 'omgbobbyg', 1580693969, 'Shocking.', 22209984, 1.0),\n",
       " (21754401, 'meh206', 1575998099, 'Dirty', 21752781, 1.0),\n",
       " (21781902, 'Red_Leaves_Flyy', 1576247845, 'Greed?', 21781853, 1.0),\n",
       " (21738792, 'adamsea', 1575843536, 'Uncomfortable?', 21738297, 1.0),\n",
       " (21871243, 'stratoblack', 1577186055, 'Waste.', 21871026, 1.0),\n",
       " (21790934, 'ai_ja_nai', 1576346470, 'seriously?', 21790552, 1.0),\n",
       " (21814275, 'windowlesley', 1576595897, 'Bullshit!', 21814005, 1.0),\n",
       " (22347827, 'homonculus1', 1581949108, 'Fuck.', 22347792, 1.0),\n",
       " (21833545, 'retox', 1576750586, 'Pathetic.', 21833377, 1.0),\n",
       " (21750719, 'gregmorton', 1575966715, 'Hell, no!', 21750553, 1.0),\n",
       " (22430947, 'jcims', 1582783364, 'antagonistic', 22430887, 1.0),\n",
       " (21954702, 'James-primitive', 1578143252, 'No. X', 21954576, 1.0),\n",
       " (21812406, 'mattacular', 1576579745, 'Dumb.', 21811180, 1.0),\n",
       " (21775863, 'robk', 1576181538, 'Jerk', 21773216, 1.0),\n",
       " (21754779, 'papito', 1576000320, 'Pain.', 21754686, 1.0),\n",
       " (22214976, 'moltar', 1580614445, 'Death', 22213662, 1.0),\n",
       " (22136108, 'sarunw', 1579850707, 'No problem.', 22119749, 1.0),\n",
       " (22050083, 'iron0013', 1579042345, 'Dupe.', 22049882, 1.0),\n",
       " (21833819, 'samkone', 1576753599, 'Stupid', 21833377, 1.0),\n",
       " (21806296, 'WalterSear', 1576524893, 'Nonsense.', 21805934, 1.0),\n",
       " (22361080, 'odiroot', 1582064935, 'Cancer warnings.', 22360934, 1.0),\n",
       " (22379420, 'einpoklum', 1582239620, 'Seriously? :-(', 22373956, 1.0),\n",
       " (21851738, 'la6470', 1576943776, 'Bullshit', 21851701, 1.0),\n",
       " (22187216, 'nicehat', 1580340762, 'Cunt.', 22177423, 1.0),\n",
       " (21783887, 'girishso', 1576260663, 'WIMPs?', 21781423, 1.0),\n",
       " (21800438, 'mrtweetyhack', 1576464212, 'Shocking!', 21796173, 1.0),\n",
       " (21717971, 'AceJohnny2', 1575589975, 'FUD.', 21717334, 1.0),\n",
       " (22222185, 'edagener', 1580715533, 'Nonsense', 22117103, 1.0),\n",
       " (22344971, 'pcdoodle', 1581904866, 'wtf?', 22344950, 1.0),\n",
       " (22030003,\n",
       "  'ethbro',\n",
       "  1578867967,\n",
       "  'Aka preventing debt slavery.',\n",
       "  22029914,\n",
       "  0.894),\n",
       " (22358449, 'Pet_Ant', 1582049359, 'Death is dead?', 22358230, 0.891),\n",
       " (22380431, 'saber6', 1582251382, 'Fuck off, faggot.', 22377701, 0.888),\n",
       " (21705074, 'mywittyname', 1575483273, 'Lying !== Fraud.', 21704987, 0.882),\n",
       " (21792642,\n",
       "  'gautamcgoel',\n",
       "  1576361252,\n",
       "  'Insanity, sheer insanity.',\n",
       "  21748972,\n",
       "  0.881),\n",
       " (22090785, 'jeffrallen', 1579432682, 'War is stupid.', 22088589, 0.88),\n",
       " (22260889,\n",
       "  'throwawayeueq',\n",
       "  1581026587,\n",
       "  'Sorry, wrong thread... :(',\n",
       "  22260863,\n",
       "  0.88)]"
      ]
     },
     "execution_count": 56,
     "metadata": {},
     "output_type": "execute_result"
    }
   ],
   "source": [
    "res"
   ]
  },
  {
   "cell_type": "code",
   "execution_count": null,
   "metadata": {},
   "outputs": [],
   "source": []
  }
 ],
 "metadata": {
  "kernelspec": {
   "display_name": "Python 3",
   "language": "python",
   "name": "python3"
  },
  "language_info": {
   "codemirror_mode": {
    "name": "ipython",
    "version": 3
   },
   "file_extension": ".py",
   "mimetype": "text/x-python",
   "name": "python",
   "nbconvert_exporter": "python",
   "pygments_lexer": "ipython3",
   "version": "3.6.9"
  }
 },
 "nbformat": 4,
 "nbformat_minor": 4
}
