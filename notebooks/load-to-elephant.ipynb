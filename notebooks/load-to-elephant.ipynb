{
 "cells": [
  {
   "cell_type": "code",
   "execution_count": 1,
   "metadata": {},
   "outputs": [],
   "source": [
    "import psycopg2\n",
    "from decouple import config\n",
    "\n",
    "!. ../.env\n",
    "\n",
    "conn = psycopg2.connect(\"postgres://\" + config(\"POSTGRES_USERNAME\") + \":\" + config(\"POSTGRES_PASSWORD\") + \"@raja.db.elephantsql.com:5432/mozfsrjp\")\n",
    "curs = conn.cursor()"
   ]
  },
  {
   "cell_type": "code",
   "execution_count": 2,
   "metadata": {},
   "outputs": [],
   "source": [
    "curs.execute(\"\"\"\n",
    "    DROP TABLE comments;\n",
    "\"\"\")"
   ]
  },
  {
   "cell_type": "code",
   "execution_count": 3,
   "metadata": {},
   "outputs": [],
   "source": [
    "curs.execute(\"\"\"\n",
    "    CREATE TABLE comments (\n",
    "        id BIGINT PRIMARY KEY,\n",
    "        author VARCHAR(100),\n",
    "        time BIGINT,\n",
    "        comment_text TEXT,\n",
    "        parent_id BIGINT,\n",
    "        saltiness FLOAT\n",
    "    );\n",
    "\"\"\")"
   ]
  },
  {
   "cell_type": "code",
   "execution_count": 4,
   "metadata": {},
   "outputs": [],
   "source": [
    "curs.close()\n",
    "conn.commit()"
   ]
  },
  {
   "cell_type": "markdown",
   "metadata": {},
   "source": [
    "### Load the CSV"
   ]
  },
  {
   "cell_type": "code",
   "execution_count": 5,
   "metadata": {},
   "outputs": [],
   "source": [
    "import re\n",
    "from vaderSentiment.vaderSentiment import SentimentIntensityAnalyzer\n",
    "\n",
    "analyzer = SentimentIntensityAnalyzer()\n",
    "\n",
    "def escape_string(text):\n",
    "    if isinstance(text, str):\n",
    "        text = re.sub(r\"\\\"\", \"\\\\\\\"\", text)\n",
    "        text = re.sub(r\"'\", \"\\\\'\", text)\n",
    "        return text\n",
    "    else:\n",
    "        return \"-\"\n",
    "\n",
    "def convert_int(x):\n",
    "    try:\n",
    "        return int(x)\n",
    "    except:\n",
    "        return -1\n",
    "\n",
    "def get_saltiness(x):\n",
    "    if isinstance(x, str):\n",
    "        res = analyzer.polarity_scores(x)[\"neg\"]\n",
    "        return res\n",
    "    return 0.0"
   ]
  },
  {
   "cell_type": "code",
   "execution_count": 6,
   "metadata": {},
   "outputs": [],
   "source": [
    "import pandas as pd\n",
    "\n",
    "hn_df = pd.read_csv(\"../csv/most_recent_1_5mm.csv\")"
   ]
  },
  {
   "cell_type": "code",
   "execution_count": 77,
   "metadata": {},
   "outputs": [],
   "source": [
    "top_1000 = hn_df[\"author\"].value_counts().index[:1000]\n",
    "hn_df = hn_df[hn_df[\"author\"].isin(top_1000)]"
   ]
  },
  {
   "cell_type": "code",
   "execution_count": null,
   "metadata": {},
   "outputs": [
    {
     "name": "stdout",
     "output_type": "stream",
     "text": [
      "Batch 0 / 1499356 -- 0.00%\n",
      "Batch 10000 / 1499356 -- 0.67%\n"
     ]
    }
   ],
   "source": [
    "from psycopg2.extras import execute_batch\n",
    "\n",
    "batchsize = 10000\n",
    "import numpy as np\n",
    "\n",
    "for ix in range(0, len(hn_df)+1, batchsize):\n",
    "    \n",
    "    print(f\"Batch {ix} / {len(hn_df)} -- {ix/len(hn_df)*100:.2f}%\")\n",
    "    \n",
    "    batch = hn_df[ix:ix+batchsize]\n",
    "    batch = [\n",
    "        [\n",
    "            row[1][1],\n",
    "            row[1][2],\n",
    "            row[1][3],\n",
    "            escape_string(row[1][4]),\n",
    "            convert_int(row[1][7]),\n",
    "            get_saltiness(row[1][4]),\n",
    "        ]\n",
    "        for row in batch.iterrows()\n",
    "    ]\n",
    "    \n",
    "    query = \"\"\"\n",
    "        INSERT INTO comments (id, author, time, comment_text, parent_id, saltiness)\n",
    "        VALUES (%s, %s, %s, %s, %s, %s);\n",
    "    \"\"\"\n",
    "    \n",
    "    curs = conn.cursor()\n",
    "    execute_batch(curs, query, batch)\n",
    "    curs.close()"
   ]
  },
  {
   "cell_type": "code",
   "execution_count": null,
   "metadata": {},
   "outputs": [],
   "source": [
    "conn.commit()"
   ]
  },
  {
   "cell_type": "code",
   "execution_count": null,
   "metadata": {},
   "outputs": [],
   "source": [
    "query = \"\"\"\n",
    "    SELECT *\n",
    "    FROM comments\n",
    "    LIMIT 1000\n",
    "\"\"\"\n",
    "curs = conn.cursor()\n",
    "curs.execute(query)\n",
    "res = curs.fetchall()"
   ]
  },
  {
   "cell_type": "code",
   "execution_count": 38,
   "metadata": {},
   "outputs": [
    {
     "data": {
      "text/plain": [
       "(20954035,\n",
       " 'chrisnager',\n",
       " 1568309269,\n",
       " 'Such a great idea. Thank you!',\n",
       " 20948826,\n",
       " 0.0)"
      ]
     },
     "execution_count": 38,
     "metadata": {},
     "output_type": "execute_result"
    }
   ],
   "source": [
    "res[0]"
   ]
  },
  {
   "cell_type": "code",
   "execution_count": 43,
   "metadata": {},
   "outputs": [
    {
     "data": {
      "text/plain": [
       "(20954038,\n",
       " 'weare138',\n",
       " 1568309300,\n",
       " '&gt; Most software engineers have a healthy circle of friends and social life.<p>I understand the point you&#x27;re trying to make but this isn&#x27;t a truism. It&#x27;s a subjective opinion that wouldn&#x27;t apply to any industry much less tech, which itself isn&#x27;t specific to software engineering. This is an issue that effects all specialized fields of study, interests and careers. I don&#x27;t feel generalizing the issue in a blanket statement that the problem is specific to the individual in question and somehow not related to circumstances beyond that individual&#x27;s control is beneficial to the OP and anyone dealing with similar issues.<p>How many people can astronauts have honest conversations with about traveling in space that other people would understand and empathize with? Obviously very few, but it would be inaccurate and irresponsible to lay blame on an astronaut if they feel socially isolated as a result.<p>Later in your post you use a loaded, weasel worded statement that I strongly disagree with, which again seems to again lay blame on the OP for their honest and earnest concern:<p>&quot;It could be depression, anxiety, it could be poor social skills. It is possible (maybe less likely) that you have little interest in deep social connections&quot;<p>It &quot;could&quot; be any number of things but only one perspective is being addressed. Implying that someone&#x27;s failure to conform to our ever changing, opinionated and perceived social &quot;norm&quot; is the cause of their issues and concerns is not helping anyone.',\n",
       " 20952809,\n",
       " 0.136)"
      ]
     },
     "execution_count": 43,
     "metadata": {},
     "output_type": "execute_result"
    }
   ],
   "source": [
    "res[3]"
   ]
  },
  {
   "cell_type": "code",
   "execution_count": null,
   "metadata": {},
   "outputs": [],
   "source": []
  }
 ],
 "metadata": {
  "kernelspec": {
   "display_name": "Python 3",
   "language": "python",
   "name": "python3"
  },
  "language_info": {
   "codemirror_mode": {
    "name": "ipython",
    "version": 3
   },
   "file_extension": ".py",
   "mimetype": "text/x-python",
   "name": "python",
   "nbconvert_exporter": "python",
   "pygments_lexer": "ipython3",
   "version": "3.6.9"
  }
 },
 "nbformat": 4,
 "nbformat_minor": 4
}
