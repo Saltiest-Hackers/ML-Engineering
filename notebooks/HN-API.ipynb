{
 "cells": [
  {
   "cell_type": "markdown",
   "metadata": {},
   "source": [
    "### Initial experimentation using Hacker News API and returned data\n",
    "\n",
    "##### offical docs -> https://github.com/HackerNews/API\n",
    "##### .raml -> https://api.stoplight.io/v1/versions/DaBbQv9WoET786zHn/export/raml.yaml"
   ]
  },
  {
   "cell_type": "code",
   "execution_count": 2,
   "metadata": {},
   "outputs": [],
   "source": [
    "import pandas as pd\n",
    "import requests"
   ]
  },
  {
   "cell_type": "code",
   "execution_count": null,
   "metadata": {},
   "outputs": [],
   "source": [
    "hnapi_base = 'https://hacker-news.firebaseio.com/v0/'\n",
    "\n",
    "latest = hnapi_base + 'maxitem.json'\n",
    "\n",
    "def hit(endpoint):\n",
    "    return requests.get(endpoint).json()\n",
    "\n",
    "limit = 10000\n",
    "\n",
    "max_uri = hit(latest)\n",
    "min_uri = max_uri - limit\n",
    "\n",
    "batch = list(range(min_uri, max_uri+1))\n",
    "comments = []\n",
    "\n",
    "for item in batch:    \n",
    "    uri = hnapi_base+f'item/{item}.json'\n",
    "    response = requests.get(uri).json()\n",
    "    \n",
    "    if response is None:\n",
    "        continue\n",
    "\n",
    "    comment = True if response['type'] == 'comment' else False\n",
    "\n",
    "\n",
    "    if not comment:\n",
    "        continue\n",
    "    comments.append(pd.Series(response))\n",
    "\n",
    "\n",
    "df = pd.DataFrame(comments)"
   ]
  },
  {
   "cell_type": "code",
   "execution_count": 4,
   "metadata": {},
   "outputs": [
    {
     "data": {
      "text/html": [
       "<div>\n",
       "<style scoped>\n",
       "    .dataframe tbody tr th:only-of-type {\n",
       "        vertical-align: middle;\n",
       "    }\n",
       "\n",
       "    .dataframe tbody tr th {\n",
       "        vertical-align: top;\n",
       "    }\n",
       "\n",
       "    .dataframe thead th {\n",
       "        text-align: right;\n",
       "    }\n",
       "</style>\n",
       "<table border=\"1\" class=\"dataframe\">\n",
       "  <thead>\n",
       "    <tr style=\"text-align: right;\">\n",
       "      <th></th>\n",
       "      <th>id</th>\n",
       "      <th>by</th>\n",
       "      <th>time</th>\n",
       "      <th>parent</th>\n",
       "      <th>text</th>\n",
       "      <th>kids</th>\n",
       "      <th>deleted</th>\n",
       "    </tr>\n",
       "  </thead>\n",
       "  <tbody>\n",
       "    <tr>\n",
       "      <th>0</th>\n",
       "      <td>22445632</td>\n",
       "      <td>Apocryphon</td>\n",
       "      <td>1582918645</td>\n",
       "      <td>22443772</td>\n",
       "      <td>Andrew Walz&amp;#x2F;Deez Nuts unity ticket 2020</td>\n",
       "      <td>NaN</td>\n",
       "      <td>NaN</td>\n",
       "    </tr>\n",
       "    <tr>\n",
       "      <th>1</th>\n",
       "      <td>22445633</td>\n",
       "      <td>Animats</td>\n",
       "      <td>1582918658</td>\n",
       "      <td>22440816</td>\n",
       "      <td>Those are called &amp;quot;multi-chip modules&amp;quot...</td>\n",
       "      <td>NaN</td>\n",
       "      <td>NaN</td>\n",
       "    </tr>\n",
       "    <tr>\n",
       "      <th>2</th>\n",
       "      <td>22445634</td>\n",
       "      <td>munk-a</td>\n",
       "      <td>1582918668</td>\n",
       "      <td>22445244</td>\n",
       "      <td>I also generally think that writing boilerplat...</td>\n",
       "      <td>NaN</td>\n",
       "      <td>NaN</td>\n",
       "    </tr>\n",
       "  </tbody>\n",
       "</table>\n",
       "</div>"
      ],
      "text/plain": [
       "         id          by        time    parent  \\\n",
       "0  22445632  Apocryphon  1582918645  22443772   \n",
       "1  22445633     Animats  1582918658  22440816   \n",
       "2  22445634      munk-a  1582918668  22445244   \n",
       "\n",
       "                                                text kids deleted  \n",
       "0       Andrew Walz&#x2F;Deez Nuts unity ticket 2020  NaN     NaN  \n",
       "1  Those are called &quot;multi-chip modules&quot...  NaN     NaN  \n",
       "2  I also generally think that writing boilerplat...  NaN     NaN  "
      ]
     },
     "execution_count": 4,
     "metadata": {},
     "output_type": "execute_result"
    }
   ],
   "source": [
    "df = pd.read_csv('../data/minimal.csv')\n",
    "df.head(3)"
   ]
  },
  {
   "cell_type": "code",
   "execution_count": 5,
   "metadata": {},
   "outputs": [
    {
     "data": {
      "text/plain": [
       "0            Andrew Walz&#x2F;Deez Nuts unity ticket 2020\n",
       "1       Those are called &quot;multi-chip modules&quot...\n",
       "2       I also generally think that writing boilerplat...\n",
       "3       Just wanted to say this is what I was looking ...\n",
       "4       This is the article Day 4. For a bit of contex...\n",
       "                              ...                        \n",
       "8817    Go is used at a bunch of major companies outsi...\n",
       "8818    Strange, somehow that is exactly what we were ...\n",
       "8819                                                   ok\n",
       "8820    This sounds like a dysfunctional company to me...\n",
       "8821    I didn&#x27;t mean documentation at the code l...\n",
       "Name: text, Length: 8822, dtype: object"
      ]
     },
     "execution_count": 5,
     "metadata": {},
     "output_type": "execute_result"
    }
   ],
   "source": [
    "df.text"
   ]
  },
  {
   "cell_type": "code",
   "execution_count": 6,
   "metadata": {},
   "outputs": [
    {
     "data": {
      "text/plain": [
       "anonsivalley652    37\n",
       "saagarjha          36\n",
       "DoreenMichele      30\n",
       "kick               28\n",
       "dang               28\n",
       "                   ..\n",
       "pansa2              1\n",
       "tobltobs            1\n",
       "slumos              1\n",
       "airstrike           1\n",
       "TingPing            1\n",
       "Name: by, Length: 3976, dtype: int64"
      ]
     },
     "execution_count": 6,
     "metadata": {},
     "output_type": "execute_result"
    }
   ],
   "source": [
    "df.by.value_counts()"
   ]
  },
  {
   "cell_type": "code",
   "execution_count": 20,
   "metadata": {},
   "outputs": [
    {
     "name": "stdout",
     "output_type": "stream",
     "text": [
      "2020-02-28 19:37:25\n",
      "2020-03-01 07:23:24\n"
     ]
    }
   ],
   "source": [
    "import datetime as dt\n",
    "print(pd.to_datetime(df.time.min(), unit='s'))\n",
    "print(pd.to_datetime(df.time.max(), unit='s'))"
   ]
  },
  {
   "cell_type": "code",
   "execution_count": 21,
   "metadata": {},
   "outputs": [
    {
     "data": {
      "text/plain": [
       "id          int64\n",
       "by         object\n",
       "time        int64\n",
       "parent      int64\n",
       "text       object\n",
       "kids       object\n",
       "deleted    object\n",
       "dtype: object"
      ]
     },
     "execution_count": 21,
     "metadata": {},
     "output_type": "execute_result"
    }
   ],
   "source": [
    "df.dtypes"
   ]
  },
  {
   "cell_type": "markdown",
   "metadata": {},
   "source": [
    "### Text"
   ]
  },
  {
   "cell_type": "code",
   "execution_count": 22,
   "metadata": {},
   "outputs": [
    {
     "name": "stdout",
     "output_type": "stream",
     "text": [
      "* \u001b[32mbtr-dev\u001b[m\n",
      "  master\u001b[m\n"
     ]
    }
   ],
   "source": [
    "!git branch"
   ]
  },
  {
   "cell_type": "code",
   "execution_count": null,
   "metadata": {},
   "outputs": [],
   "source": []
  }
 ],
 "metadata": {
  "kernelspec": {
   "display_name": "salty-mle Python(3.8)",
   "language": "python",
   "name": "salty-mle"
  },
  "language_info": {
   "codemirror_mode": {
    "name": "ipython",
    "version": 3
   },
   "file_extension": ".py",
   "mimetype": "text/x-python",
   "name": "python",
   "nbconvert_exporter": "python",
   "pygments_lexer": "ipython3",
   "version": "3.8.0"
  }
 },
 "nbformat": 4,
 "nbformat_minor": 4
}
