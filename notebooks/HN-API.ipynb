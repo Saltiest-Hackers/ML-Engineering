{
 "cells": [
  {
   "cell_type": "code",
   "execution_count": 2,
   "metadata": {},
   "outputs": [],
   "source": [
    "import pandas as pd\n",
    "import requests"
   ]
  },
  {
   "cell_type": "code",
   "execution_count": 42,
   "metadata": {},
   "outputs": [],
   "source": [
    "base_url = 'https://hacker-news.firebaseio.com/v0/'\n",
    "\n",
    "top_stories = 'topstories.json'\n",
    "\n",
    "r = requests.get(base_url+top_stories)"
   ]
  },
  {
   "cell_type": "code",
   "execution_count": 4,
   "metadata": {},
   "outputs": [],
   "source": [
    "post_ids = r.json()\n"
   ]
  },
  {
   "cell_type": "code",
   "execution_count": 47,
   "metadata": {},
   "outputs": [],
   "source": [
    "test = base_url + f'item/{1}.json' "
   ]
  },
  {
   "cell_type": "code",
   "execution_count": 46,
   "metadata": {},
   "outputs": [
    {
     "data": {
      "text/plain": [
       "{'by': 'phyllis',\n",
       " 'descendants': 0,\n",
       " 'id': 2,\n",
       " 'kids': [454411],\n",
       " 'score': 16,\n",
       " 'time': 1160418628,\n",
       " 'title': \"A Student's Guide to Startups\",\n",
       " 'type': 'story',\n",
       " 'url': 'http://www.paulgraham.com/mit.html'}"
      ]
     },
     "execution_count": 46,
     "metadata": {},
     "output_type": "execute_result"
    }
   ],
   "source": [
    "requests.get(test).json()"
   ]
  },
  {
   "cell_type": "raw",
   "metadata": {},
   "source": []
  },
  {
   "cell_type": "code",
   "execution_count": 36,
   "metadata": {},
   "outputs": [],
   "source": [
    "post_comments = []\n",
    "for comment in comments:\n",
    "    tmp = base_url + f'item/{comment}.json'\n",
    "    body = requests.get(tmp).json()['text']\n",
    "    post_comments.append(body)\n",
    "    "
   ]
  },
  {
   "cell_type": "code",
   "execution_count": 37,
   "metadata": {},
   "outputs": [
    {
     "data": {
      "text/plain": [
       "['This is not intending to minimize in the slightest the amazing work that Jeremy does - I am a huge fan.<p>But Fast.ai has TWO co-founders, and somehow, Rachel doesn&#x27;t seem to get any credit in these discussions (not the book specifically, I&#x27;m talking about the overall enterprise). Not quite sure why; A lot of the content on the website is written by her, and it&#x27;s clear she adds a lot of value to the endeavor as a whole.',\n",
       " 'It&#x27;s a neat idea to write the entire book as notebooks - so you can have run-able code right in line.<p>Definitely excited to check this out; thanks Jeremy and Sylvain!',\n",
       " 'I recommend everybody who didn’t check those out to do so.<p>Not really being interested in ML, but doing all the available most popular courses to keep up, I really liked how fastai doesn’t just teach you ready and known models, but also how to compose differentiable building blocks to design NN’s yourself.',\n",
       " 'Love the work Jeremy Howard does. Would definitely recommend the fastai course for anyone considering getting into ML.',\n",
       " 'Another smart move from fast.ai, this book is going to be the state-of-the-art reference for 2020 and a classic anthology of algo techniques for the mid term.',\n",
       " 'How does this compare to the video course? e.g. what are the differences?',\n",
       " 'It looks promising!<p>Minor point, a requirements.txt file or something would be convenient to get started quickly.',\n",
       " '&gt; There are also &quot;agglutinative languages&quot;, like Polish, which can add many morphemes together to create very long &quot;words&quot; which include a lot of separate pieces of information. [1]<p>Polish does not work this way. Source: I am Polish. Perhaps jph00 meant Turkish. Issue filed.<p>[1] <a href=\"https:&#x2F;&#x2F;github.com&#x2F;fastai&#x2F;fastbook&#x2F;blob&#x2F;master&#x2F;10_nlp.ipynb\" rel=\"nofollow\">https:&#x2F;&#x2F;github.com&#x2F;fastai&#x2F;fastbook&#x2F;blob&#x2F;master&#x2F;10_nlp.ipynb</a>',\n",
       " 'Wow, Orielly lawyers are determined to screw this up. The thing is GPL v3 licensed which means I can’t copy any of the book code in my closed-source product or competitions or even MIT licensed code. The readme says I cannot make copies of this material but it’s ok to fork. Huh?',\n",
       " 'It always amazes me how bad some technical people is at basic promotion:<p>What is Fastai?\\nWhy do I need it?<p>Something as basic as an elevator speech that introduces your product in your github page and book intro can mean 10x or 100x more sales.<p>If you force people into having to search it for you, you have already lost most of them.<p>For this author it is as you already know everything about Fastai, but if you did, you would not be needing this book in the first place.<p>It happens a lot to technical writers because they have spent years thinking about a topic, so they could not put themselves in the shoes of someone who does not.']"
      ]
     },
     "execution_count": 37,
     "metadata": {},
     "output_type": "execute_result"
    }
   ],
   "source": [
    "post_comments"
   ]
  },
  {
   "cell_type": "code",
   "execution_count": 30,
   "metadata": {},
   "outputs": [],
   "source": [
    "test = base_url + f'item/{22453147}.json' "
   ]
  },
  {
   "cell_type": "code",
   "execution_count": 34,
   "metadata": {},
   "outputs": [
    {
     "data": {
      "text/plain": [
       "{'by': 'he11ow',\n",
       " 'id': 22453147,\n",
       " 'kids': [22453663, 22453537],\n",
       " 'parent': 22449562,\n",
       " 'text': 'This is not intending to minimize in the slightest the amazing work that Jeremy does - I am a huge fan.<p>But Fast.ai has TWO co-founders, and somehow, Rachel doesn&#x27;t seem to get any credit in these discussions (not the book specifically, I&#x27;m talking about the overall enterprise). Not quite sure why; A lot of the content on the website is written by her, and it&#x27;s clear she adds a lot of value to the endeavor as a whole.',\n",
       " 'time': 1583010879,\n",
       " 'type': 'comment'}"
      ]
     },
     "execution_count": 34,
     "metadata": {},
     "output_type": "execute_result"
    }
   ],
   "source": [
    "requests.get(test).json()"
   ]
  },
  {
   "cell_type": "code",
   "execution_count": null,
   "metadata": {},
   "outputs": [],
   "source": []
  }
 ],
 "metadata": {
  "kernelspec": {
   "display_name": "salty-mle Python(3.8)",
   "language": "python",
   "name": "salty-mle"
  },
  "language_info": {
   "codemirror_mode": {
    "name": "ipython",
    "version": 3
   },
   "file_extension": ".py",
   "mimetype": "text/x-python",
   "name": "python",
   "nbconvert_exporter": "python",
   "pygments_lexer": "ipython3",
   "version": "3.8.0"
  }
 },
 "nbformat": 4,
 "nbformat_minor": 4
}
