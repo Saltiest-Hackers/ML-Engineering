{
 "cells": [
  {
   "cell_type": "code",
   "execution_count": 2,
   "metadata": {},
   "outputs": [
    {
     "data": {
      "text/plain": [
       "['comments', 'full', 'full_201510', 'stories']"
      ]
     },
     "execution_count": 2,
     "metadata": {},
     "output_type": "execute_result"
    }
   ],
   "source": [
    "from google.cloud import bigquery\n",
    "from google.oauth2 import service_account\n",
    "\n",
    "credentials = service_account.Credentials.from_service_account_file(\n",
    "    \"My First Project-801cca1315e6.json\",\n",
    "    scopes=[\"https://www.googleapis.com/auth/cloud-platform\"],\n",
    ")\n",
    "client = bigquery.Client(\n",
    "    credentials=credentials,\n",
    "    project=credentials.project_id,\n",
    ")\n",
    "\n",
    "hn_dataset_ref = client.dataset('hacker_news', project='bigquery-public-data')\n",
    "\n",
    "hn_dset = client.get_dataset(hn_dataset_ref)\n",
    "\n",
    "[x.table_id for x in client.list_tables(hn_dset)]"
   ]
  },
  {
   "cell_type": "code",
   "execution_count": 8,
   "metadata": {},
   "outputs": [],
   "source": [
    "df = client.query(\"\"\"\n",
    "SELECT *\n",
    "FROM `bigquery-public-data.hacker_news.comments`\n",
    "ORDER BY time DESC\n",
    "LIMIT 500000;\n",
    "\"\"\").result().to_dataframe()"
   ]
  },
  {
   "cell_type": "code",
   "execution_count": 10,
   "metadata": {},
   "outputs": [
    {
     "data": {
      "text/html": [
       "<div>\n",
       "<style scoped>\n",
       "    .dataframe tbody tr th:only-of-type {\n",
       "        vertical-align: middle;\n",
       "    }\n",
       "\n",
       "    .dataframe tbody tr th {\n",
       "        vertical-align: top;\n",
       "    }\n",
       "\n",
       "    .dataframe thead th {\n",
       "        text-align: right;\n",
       "    }\n",
       "</style>\n",
       "<table border=\"1\" class=\"dataframe\">\n",
       "  <thead>\n",
       "    <tr style=\"text-align: right;\">\n",
       "      <th></th>\n",
       "      <th>id</th>\n",
       "      <th>by</th>\n",
       "      <th>author</th>\n",
       "      <th>time</th>\n",
       "      <th>time_ts</th>\n",
       "      <th>text</th>\n",
       "      <th>parent</th>\n",
       "      <th>deleted</th>\n",
       "      <th>dead</th>\n",
       "      <th>ranking</th>\n",
       "    </tr>\n",
       "  </thead>\n",
       "  <tbody>\n",
       "    <tr>\n",
       "      <th>499995</th>\n",
       "      <td>9772254</td>\n",
       "      <td>wnewman</td>\n",
       "      <td>wnewman</td>\n",
       "      <td>1435159762</td>\n",
       "      <td>2015-06-24 15:29:22+00:00</td>\n",
       "      <td>I think &lt;a href=\"http:&amp;#x2F;&amp;#x2F;judithcurry....</td>\n",
       "      <td>9771998</td>\n",
       "      <td>None</td>\n",
       "      <td>None</td>\n",
       "      <td>0</td>\n",
       "    </tr>\n",
       "    <tr>\n",
       "      <th>499996</th>\n",
       "      <td>9772253</td>\n",
       "      <td>scast</td>\n",
       "      <td>scast</td>\n",
       "      <td>1435159761</td>\n",
       "      <td>2015-06-24 15:29:21+00:00</td>\n",
       "      <td>I was looking into this. Sadly it requires tha...</td>\n",
       "      <td>9771891</td>\n",
       "      <td>None</td>\n",
       "      <td>None</td>\n",
       "      <td>21</td>\n",
       "    </tr>\n",
       "    <tr>\n",
       "      <th>499997</th>\n",
       "      <td>9772252</td>\n",
       "      <td>gmarx</td>\n",
       "      <td>gmarx</td>\n",
       "      <td>1435159746</td>\n",
       "      <td>2015-06-24 15:29:06+00:00</td>\n",
       "      <td>Wasn&amp;#x27;t the start of this timeline the end...</td>\n",
       "      <td>9771493</td>\n",
       "      <td>None</td>\n",
       "      <td>None</td>\n",
       "      <td>23</td>\n",
       "    </tr>\n",
       "    <tr>\n",
       "      <th>499998</th>\n",
       "      <td>9772251</td>\n",
       "      <td>wmil</td>\n",
       "      <td>wmil</td>\n",
       "      <td>1435159729</td>\n",
       "      <td>2015-06-24 15:28:49+00:00</td>\n",
       "      <td>India seems like a very poor example.&lt;p&gt;Instea...</td>\n",
       "      <td>9770059</td>\n",
       "      <td>None</td>\n",
       "      <td>None</td>\n",
       "      <td>5</td>\n",
       "    </tr>\n",
       "    <tr>\n",
       "      <th>499999</th>\n",
       "      <td>9772250</td>\n",
       "      <td>infostruct</td>\n",
       "      <td>infostruct</td>\n",
       "      <td>1435159702</td>\n",
       "      <td>2015-06-24 15:28:22+00:00</td>\n",
       "      <td>Working with Swift on this project was a reall...</td>\n",
       "      <td>9772132</td>\n",
       "      <td>None</td>\n",
       "      <td>None</td>\n",
       "      <td>0</td>\n",
       "    </tr>\n",
       "  </tbody>\n",
       "</table>\n",
       "</div>"
      ],
      "text/plain": [
       "             id          by      author        time                   time_ts  \\\n",
       "499995  9772254     wnewman     wnewman  1435159762 2015-06-24 15:29:22+00:00   \n",
       "499996  9772253       scast       scast  1435159761 2015-06-24 15:29:21+00:00   \n",
       "499997  9772252       gmarx       gmarx  1435159746 2015-06-24 15:29:06+00:00   \n",
       "499998  9772251        wmil        wmil  1435159729 2015-06-24 15:28:49+00:00   \n",
       "499999  9772250  infostruct  infostruct  1435159702 2015-06-24 15:28:22+00:00   \n",
       "\n",
       "                                                     text   parent deleted  \\\n",
       "499995  I think <a href=\"http:&#x2F;&#x2F;judithcurry....  9771998    None   \n",
       "499996  I was looking into this. Sadly it requires tha...  9771891    None   \n",
       "499997  Wasn&#x27;t the start of this timeline the end...  9771493    None   \n",
       "499998  India seems like a very poor example.<p>Instea...  9770059    None   \n",
       "499999  Working with Swift on this project was a reall...  9772132    None   \n",
       "\n",
       "        dead  ranking  \n",
       "499995  None        0  \n",
       "499996  None       21  \n",
       "499997  None       23  \n",
       "499998  None        5  \n",
       "499999  None        0  "
      ]
     },
     "execution_count": 10,
     "metadata": {},
     "output_type": "execute_result"
    }
   ],
   "source": [
    "df.tail()\n"
   ]
  },
  {
   "cell_type": "code",
   "execution_count": null,
   "metadata": {},
   "outputs": [],
   "source": []
  }
 ],
 "metadata": {
  "kernelspec": {
   "display_name": "Python 3",
   "language": "python",
   "name": "python3"
  },
  "language_info": {
   "codemirror_mode": {
    "name": "ipython",
    "version": 3
   },
   "file_extension": ".py",
   "mimetype": "text/x-python",
   "name": "python",
   "nbconvert_exporter": "python",
   "pygments_lexer": "ipython3",
   "version": "3.6.9"
  }
 },
 "nbformat": 4,
 "nbformat_minor": 4
}
