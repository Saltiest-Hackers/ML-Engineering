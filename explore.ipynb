{
 "cells": [
  {
   "cell_type": "code",
   "execution_count": 26,
   "metadata": {},
   "outputs": [
    {
     "data": {
      "text/plain": [
       "['comments', 'full', 'full_201510', 'stories']"
      ]
     },
     "execution_count": 26,
     "metadata": {},
     "output_type": "execute_result"
    }
   ],
   "source": [
    "from google.cloud import bigquery\n",
    "from google.oauth2 import service_account\n",
    "\n",
    "credentials = service_account.Credentials.from_service_account_file(\n",
    "    \"My First Project-801cca1315e6_3.json\",\n",
    "    scopes=[\"https://www.googleapis.com/auth/cloud-platform\"],\n",
    ")\n",
    "client = bigquery.Client(\n",
    "    credentials=credentials,\n",
    "    project=credentials.project_id,\n",
    ")\n",
    "\n",
    "hn_dataset_ref = client.dataset('hacker_news', project='bigquery-public-data')\n",
    "\n",
    "hn_dset = client.get_dataset(hn_dataset_ref)\n",
    "\n",
    "[x.table_id for x in client.list_tables(hn_dset)]"
   ]
  },
  {
   "cell_type": "code",
   "execution_count": 27,
   "metadata": {},
   "outputs": [
    {
     "name": "stdout",
     "output_type": "stream",
     "text": [
      " explore.ipynb\t\t\t\t'My First Project-801cca1315e6_3.json'\n",
      " LICENSE\t\t\t\t'My First Project-801cca1315e6.json'\n",
      "'My First Project-801cca1315e6_2.json'\t README.md\n"
     ]
    }
   ],
   "source": [
    "!ls"
   ]
  },
  {
   "cell_type": "code",
   "execution_count": 37,
   "metadata": {},
   "outputs": [],
   "source": [
    "df = client.query(\"\"\"\n",
    "SELECT *\n",
    "FROM `bigquery-public-data.hacker_news.comments`\n",
    "ORDER BY time DESC\n",
    "LIMIT 1600000;\n",
    "\"\"\").result().to_dataframe()"
   ]
  },
  {
   "cell_type": "code",
   "execution_count": 38,
   "metadata": {},
   "outputs": [
    {
     "data": {
      "text/html": [
       "<div>\n",
       "<style scoped>\n",
       "    .dataframe tbody tr th:only-of-type {\n",
       "        vertical-align: middle;\n",
       "    }\n",
       "\n",
       "    .dataframe tbody tr th {\n",
       "        vertical-align: top;\n",
       "    }\n",
       "\n",
       "    .dataframe thead th {\n",
       "        text-align: right;\n",
       "    }\n",
       "</style>\n",
       "<table border=\"1\" class=\"dataframe\">\n",
       "  <thead>\n",
       "    <tr style=\"text-align: right;\">\n",
       "      <th></th>\n",
       "      <th>id</th>\n",
       "      <th>by</th>\n",
       "      <th>author</th>\n",
       "      <th>time</th>\n",
       "      <th>time_ts</th>\n",
       "      <th>text</th>\n",
       "      <th>parent</th>\n",
       "      <th>deleted</th>\n",
       "      <th>dead</th>\n",
       "      <th>ranking</th>\n",
       "    </tr>\n",
       "  </thead>\n",
       "  <tbody>\n",
       "    <tr>\n",
       "      <th>1599995</th>\n",
       "      <td>8432460</td>\n",
       "      <td>jaoued</td>\n",
       "      <td>jaoued</td>\n",
       "      <td>1412864148</td>\n",
       "      <td>2014-10-09 14:15:48+00:00</td>\n",
       "      <td>You dont want to read french comments either.</td>\n",
       "      <td>8427976</td>\n",
       "      <td>None</td>\n",
       "      <td>None</td>\n",
       "      <td>2</td>\n",
       "    </tr>\n",
       "    <tr>\n",
       "      <th>1599996</th>\n",
       "      <td>8432459</td>\n",
       "      <td>dmix</td>\n",
       "      <td>dmix</td>\n",
       "      <td>1412864128</td>\n",
       "      <td>2014-10-09 14:15:28+00:00</td>\n",
       "      <td>There are plenty. Here are a few off the top o...</td>\n",
       "      <td>8432424</td>\n",
       "      <td>None</td>\n",
       "      <td>None</td>\n",
       "      <td>0</td>\n",
       "    </tr>\n",
       "    <tr>\n",
       "      <th>1599997</th>\n",
       "      <td>8432458</td>\n",
       "      <td>Someone1234</td>\n",
       "      <td>Someone1234</td>\n",
       "      <td>1412864106</td>\n",
       "      <td>2014-10-09 14:15:06+00:00</td>\n",
       "      <td>Is this an advert for Sensor Tower? Certainly ...</td>\n",
       "      <td>8431622</td>\n",
       "      <td>None</td>\n",
       "      <td>None</td>\n",
       "      <td>0</td>\n",
       "    </tr>\n",
       "    <tr>\n",
       "      <th>1599998</th>\n",
       "      <td>8432457</td>\n",
       "      <td>jemfinch</td>\n",
       "      <td>jemfinch</td>\n",
       "      <td>1412864105</td>\n",
       "      <td>2014-10-09 14:15:05+00:00</td>\n",
       "      <td>You just started a few months ago; how would y...</td>\n",
       "      <td>8431951</td>\n",
       "      <td>None</td>\n",
       "      <td>None</td>\n",
       "      <td>1</td>\n",
       "    </tr>\n",
       "    <tr>\n",
       "      <th>1599999</th>\n",
       "      <td>8432455</td>\n",
       "      <td>GrinningFool</td>\n",
       "      <td>GrinningFool</td>\n",
       "      <td>1412864094</td>\n",
       "      <td>2014-10-09 14:14:54+00:00</td>\n",
       "      <td>&amp;quot;Debt is a contractual issue, not a moral...</td>\n",
       "      <td>8428388</td>\n",
       "      <td>None</td>\n",
       "      <td>None</td>\n",
       "      <td>1</td>\n",
       "    </tr>\n",
       "  </tbody>\n",
       "</table>\n",
       "</div>"
      ],
      "text/plain": [
       "              id            by        author        time  \\\n",
       "1599995  8432460        jaoued        jaoued  1412864148   \n",
       "1599996  8432459          dmix          dmix  1412864128   \n",
       "1599997  8432458   Someone1234   Someone1234  1412864106   \n",
       "1599998  8432457      jemfinch      jemfinch  1412864105   \n",
       "1599999  8432455  GrinningFool  GrinningFool  1412864094   \n",
       "\n",
       "                          time_ts  \\\n",
       "1599995 2014-10-09 14:15:48+00:00   \n",
       "1599996 2014-10-09 14:15:28+00:00   \n",
       "1599997 2014-10-09 14:15:06+00:00   \n",
       "1599998 2014-10-09 14:15:05+00:00   \n",
       "1599999 2014-10-09 14:14:54+00:00   \n",
       "\n",
       "                                                      text   parent deleted  \\\n",
       "1599995      You dont want to read french comments either.  8427976    None   \n",
       "1599996  There are plenty. Here are a few off the top o...  8432424    None   \n",
       "1599997  Is this an advert for Sensor Tower? Certainly ...  8431622    None   \n",
       "1599998  You just started a few months ago; how would y...  8431951    None   \n",
       "1599999  &quot;Debt is a contractual issue, not a moral...  8428388    None   \n",
       "\n",
       "         dead  ranking  \n",
       "1599995  None        2  \n",
       "1599996  None        0  \n",
       "1599997  None        0  \n",
       "1599998  None        1  \n",
       "1599999  None        1  "
      ]
     },
     "execution_count": 38,
     "metadata": {},
     "output_type": "execute_result"
    }
   ],
   "source": [
    "df.tail()"
   ]
  },
  {
   "cell_type": "code",
   "execution_count": 39,
   "metadata": {},
   "outputs": [],
   "source": [
    "import numpy as np\n",
    "\n",
    "for ix, df_i in  enumerate(np.array_split(df, 12)):\n",
    "    df_i.to_csv(f'hn_{ix}.csv')"
   ]
  },
  {
   "cell_type": "code",
   "execution_count": 30,
   "metadata": {},
   "outputs": [
    {
     "name": "stdout",
     "output_type": "stream",
     "text": [
      "-rwxrwxrwx 1 cowley cowley 232M Feb 29 15:26 hn.csv\n"
     ]
    }
   ],
   "source": [
    "!ls -lh hn.csv"
   ]
  },
  {
   "cell_type": "code",
   "execution_count": null,
   "metadata": {},
   "outputs": [],
   "source": []
  },
  {
   "cell_type": "code",
   "execution_count": 14,
   "metadata": {},
   "outputs": [
    {
     "data": {
      "text/plain": [
       "<matplotlib.axes._subplots.AxesSubplot at 0x7fd18fa4ec18>"
      ]
     },
     "execution_count": 14,
     "metadata": {},
     "output_type": "execute_result"
    },
    {
     "data": {
      "image/png": "[encoded data removed]",
      "text/plain": [
       "<Figure size 432x288 with 1 Axes>"
      ]
     },
     "metadata": {
      "needs_background": "light"
     },
     "output_type": "display_data"
    }
   ],
   "source": [
    "df[\"time_ts\"].dt.month.plot(kind=\"hist\", bins=12)"
   ]
  },
  {
   "cell_type": "code",
   "execution_count": 17,
   "metadata": {},
   "outputs": [
    {
     "data": {
      "text/plain": [
       "<matplotlib.axes._subplots.AxesSubplot at 0x7fd19cc12160>"
      ]
     },
     "execution_count": 17,
     "metadata": {},
     "output_type": "execute_result"
    },
    {
     "data": {
      "image/png": "[encoded data removed]",
      "text/plain": [
       "<Figure size 432x288 with 1 Axes>"
      ]
     },
     "metadata": {
      "needs_background": "light"
     },
     "output_type": "display_data"
    }
   ],
   "source": [
    "df[\"time_ts\"].dt.weekday.plot(kind=\"hist\", bins=7)"
   ]
  },
  {
   "cell_type": "code",
   "execution_count": 19,
   "metadata": {},
   "outputs": [
    {
     "data": {
      "text/plain": [
       "dang             1994\n",
       "tptacek          1441\n",
       "dragonwriter     1340\n",
       "DanBC            1316\n",
       "greenyoda        1156\n",
       "nickpsecurity    1126\n",
       "mikeash          1066\n",
       "TeMPOraL          915\n",
       "toomuchtodo       893\n",
       "coldtea           883\n",
       "icebraining       866\n",
       "vezzy-fnord       828\n",
       "JoeAltmaier       778\n",
       "Animats           752\n",
       "jacquesm          715\n",
       "MichaelGG         684\n",
       "agumonkey         681\n",
       "jsprogrammer      678\n",
       "pjc50             677\n",
       "pjmlp             660\n",
       "kuschku           610\n",
       "dalke             610\n",
       "brudgers          600\n",
       "userbinator       594\n",
       "JoshTriplett      577\n",
       "Name: author, dtype: int64"
      ]
     },
     "execution_count": 19,
     "metadata": {},
     "output_type": "execute_result"
    }
   ],
   "source": [
    "df[\"author\"].value_counts().head(25)"
   ]
  },
  {
   "cell_type": "code",
   "execution_count": 20,
   "metadata": {},
   "outputs": [
    {
     "data": {
      "text/plain": [
       "9812245     902\n",
       "9996333     850\n",
       "10152809    733\n",
       "10311580    645\n",
       "10360911    215\n",
       "9996335     200\n",
       "10152811    199\n",
       "10037157    163\n",
       "9812247     154\n",
       "10226196    152\n",
       "10339388    146\n",
       "9784008     122\n",
       "10312938    118\n",
       "9812246     116\n",
       "10080065    116\n",
       "10347821    115\n",
       "10117297    114\n",
       "10311582    109\n",
       "9966118     104\n",
       "10170089    103\n",
       "10027102    103\n",
       "10272098    101\n",
       "10153164    100\n",
       "10311581     99\n",
       "9996334      98\n",
       "Name: parent, dtype: int64"
      ]
     },
     "execution_count": 20,
     "metadata": {},
     "output_type": "execute_result"
    }
   ],
   "source": [
    "df[\"parent\"].value_counts().head(25)"
   ]
  },
  {
   "cell_type": "code",
   "execution_count": 21,
   "metadata": {},
   "outputs": [
    {
     "ename": "TypeError",
     "evalue": "__init__() got an unexpected keyword argument 'stopwords'",
     "output_type": "error",
     "traceback": [
      "\u001b[0;31m---------------------------------------------------------------------------\u001b[0m",
      "\u001b[0;31mTypeError\u001b[0m                                 Traceback (most recent call last)",
      "\u001b[0;32m<ipython-input-21-aff16ee8f68d>\u001b[0m in \u001b[0;36m<module>\u001b[0;34m\u001b[0m\n\u001b[1;32m      4\u001b[0m \u001b[0;34m\u001b[0m\u001b[0m\n\u001b[1;32m      5\u001b[0m \u001b[0;34m\u001b[0m\u001b[0m\n\u001b[0;32m----> 6\u001b[0;31m \u001b[0mvect\u001b[0m \u001b[0;34m=\u001b[0m \u001b[0mTfidfVectorizer\u001b[0m\u001b[0;34m(\u001b[0m\u001b[0mstopwords\u001b[0m\u001b[0;34m=\u001b[0m\u001b[0;34m\"english\"\u001b[0m\u001b[0;34m,\u001b[0m \u001b[0mngram_range\u001b[0m\u001b[0;34m=\u001b[0m\u001b[0;34m(\u001b[0m\u001b[0;36m1\u001b[0m\u001b[0;34m,\u001b[0m \u001b[0;36m2\u001b[0m\u001b[0;34m)\u001b[0m\u001b[0;34m)\u001b[0m\u001b[0;34m\u001b[0m\u001b[0;34m\u001b[0m\u001b[0m\n\u001b[0m\u001b[1;32m      7\u001b[0m \u001b[0mrfc\u001b[0m \u001b[0;34m=\u001b[0m \u001b[0mRandomForestClassifier\u001b[0m\u001b[0;34m\u001b[0m\u001b[0;34m\u001b[0m\u001b[0m\n\u001b[1;32m      8\u001b[0m \u001b[0;34m\u001b[0m\u001b[0m\n",
      "\u001b[0;31mTypeError\u001b[0m: __init__() got an unexpected keyword argument 'stopwords'"
     ]
    }
   ],
   "source": [
    "from sklearn.feature_extraction.text import TfidfVectorizer\n",
    "from sklearn.ensemble import RandomForestClassifier\n",
    "from sklearn.pipeline import Pipeline\n",
    "\n",
    "\n",
    "vect = TfidfVectorizer(stop_words=\"english\", ngram_range=(1, 2))\n",
    "rfc = RandomForestClassifier\n",
    "\n",
    "\n",
    "pipe = Pipeline([\n",
    "    (\"vect\", vect),\n",
    "    (\"clf\", rfc),\n",
    "])\n",
    "\n",
    "data = df[\"comments\"]"
   ]
  },
  {
   "cell_type": "code",
   "execution_count": 43,
   "metadata": {},
   "outputs": [],
   "source": [
    "top_1000 = df[\"author\"].value_counts()[:1000].index"
   ]
  },
  {
   "cell_type": "code",
   "execution_count": 48,
   "metadata": {},
   "outputs": [
    {
     "data": {
      "text/html": [
       "<div>\n",
       "<style scoped>\n",
       "    .dataframe tbody tr th:only-of-type {\n",
       "        vertical-align: middle;\n",
       "    }\n",
       "\n",
       "    .dataframe tbody tr th {\n",
       "        vertical-align: top;\n",
       "    }\n",
       "\n",
       "    .dataframe thead th {\n",
       "        text-align: right;\n",
       "    }\n",
       "</style>\n",
       "<table border=\"1\" class=\"dataframe\">\n",
       "  <thead>\n",
       "    <tr style=\"text-align: right;\">\n",
       "      <th></th>\n",
       "      <th>id</th>\n",
       "      <th>by</th>\n",
       "      <th>author</th>\n",
       "      <th>time</th>\n",
       "      <th>time_ts</th>\n",
       "      <th>text</th>\n",
       "      <th>parent</th>\n",
       "      <th>deleted</th>\n",
       "      <th>dead</th>\n",
       "      <th>ranking</th>\n",
       "    </tr>\n",
       "  </thead>\n",
       "  <tbody>\n",
       "    <tr>\n",
       "      <th>3</th>\n",
       "      <td>10379190</td>\n",
       "      <td>copsarebastards</td>\n",
       "      <td>copsarebastards</td>\n",
       "      <td>1444725645</td>\n",
       "      <td>2015-10-13 08:40:45+00:00</td>\n",
       "      <td>&amp;gt; Why do you care about the success of the ...</td>\n",
       "      <td>10376640</td>\n",
       "      <td>None</td>\n",
       "      <td>None</td>\n",
       "      <td>0</td>\n",
       "    </tr>\n",
       "    <tr>\n",
       "      <th>5</th>\n",
       "      <td>10379188</td>\n",
       "      <td>laumars</td>\n",
       "      <td>laumars</td>\n",
       "      <td>1444725615</td>\n",
       "      <td>2015-10-13 08:40:15+00:00</td>\n",
       "      <td>I&amp;#x27;m really not sure where you&amp;#x27;re get...</td>\n",
       "      <td>10378047</td>\n",
       "      <td>None</td>\n",
       "      <td>None</td>\n",
       "      <td>0</td>\n",
       "    </tr>\n",
       "    <tr>\n",
       "      <th>10</th>\n",
       "      <td>10379183</td>\n",
       "      <td>wingerlang</td>\n",
       "      <td>wingerlang</td>\n",
       "      <td>1444725567</td>\n",
       "      <td>2015-10-13 08:39:27+00:00</td>\n",
       "      <td>I haven&amp;#x27;t looked into it, but I would ass...</td>\n",
       "      <td>10379064</td>\n",
       "      <td>None</td>\n",
       "      <td>None</td>\n",
       "      <td>0</td>\n",
       "    </tr>\n",
       "    <tr>\n",
       "      <th>19</th>\n",
       "      <td>10379172</td>\n",
       "      <td>simonh</td>\n",
       "      <td>simonh</td>\n",
       "      <td>1444725371</td>\n",
       "      <td>2015-10-13 08:36:11+00:00</td>\n",
       "      <td>Nobody is arguing that incorrectly issued tick...</td>\n",
       "      <td>10379022</td>\n",
       "      <td>None</td>\n",
       "      <td>None</td>\n",
       "      <td>0</td>\n",
       "    </tr>\n",
       "    <tr>\n",
       "      <th>20</th>\n",
       "      <td>10379171</td>\n",
       "      <td>dogma1138</td>\n",
       "      <td>dogma1138</td>\n",
       "      <td>1444725370</td>\n",
       "      <td>2015-10-13 08:36:10+00:00</td>\n",
       "      <td>I&amp;#x27;m pretty VMWare&amp;#x27;s stock devalued i...</td>\n",
       "      <td>10377792</td>\n",
       "      <td>None</td>\n",
       "      <td>None</td>\n",
       "      <td>0</td>\n",
       "    </tr>\n",
       "    <tr>\n",
       "      <th>...</th>\n",
       "      <td>...</td>\n",
       "      <td>...</td>\n",
       "      <td>...</td>\n",
       "      <td>...</td>\n",
       "      <td>...</td>\n",
       "      <td>...</td>\n",
       "      <td>...</td>\n",
       "      <td>...</td>\n",
       "      <td>...</td>\n",
       "      <td>...</td>\n",
       "    </tr>\n",
       "    <tr>\n",
       "      <th>1599969</th>\n",
       "      <td>8432494</td>\n",
       "      <td>JoeAltmaier</td>\n",
       "      <td>JoeAltmaier</td>\n",
       "      <td>1412864515</td>\n",
       "      <td>2014-10-09 14:21:55+00:00</td>\n",
       "      <td>Much of the bad is cultural. Americans are imp...</td>\n",
       "      <td>8432412</td>\n",
       "      <td>None</td>\n",
       "      <td>None</td>\n",
       "      <td>1</td>\n",
       "    </tr>\n",
       "    <tr>\n",
       "      <th>1599973</th>\n",
       "      <td>8432489</td>\n",
       "      <td>davidw</td>\n",
       "      <td>davidw</td>\n",
       "      <td>1412864460</td>\n",
       "      <td>2014-10-09 14:21:00+00:00</td>\n",
       "      <td>From patio11:&lt;p&gt;&amp;quot;There is no chasm in Ame...</td>\n",
       "      <td>8432199</td>\n",
       "      <td>None</td>\n",
       "      <td>None</td>\n",
       "      <td>0</td>\n",
       "    </tr>\n",
       "    <tr>\n",
       "      <th>1599983</th>\n",
       "      <td>8432475</td>\n",
       "      <td>seanmcdirmid</td>\n",
       "      <td>seanmcdirmid</td>\n",
       "      <td>1412864324</td>\n",
       "      <td>2014-10-09 14:18:44+00:00</td>\n",
       "      <td>Also in Redmond. Many are RSDEs, but there are...</td>\n",
       "      <td>8432250</td>\n",
       "      <td>None</td>\n",
       "      <td>None</td>\n",
       "      <td>0</td>\n",
       "    </tr>\n",
       "    <tr>\n",
       "      <th>1599996</th>\n",
       "      <td>8432459</td>\n",
       "      <td>dmix</td>\n",
       "      <td>dmix</td>\n",
       "      <td>1412864128</td>\n",
       "      <td>2014-10-09 14:15:28+00:00</td>\n",
       "      <td>There are plenty. Here are a few off the top o...</td>\n",
       "      <td>8432424</td>\n",
       "      <td>None</td>\n",
       "      <td>None</td>\n",
       "      <td>0</td>\n",
       "    </tr>\n",
       "    <tr>\n",
       "      <th>1599997</th>\n",
       "      <td>8432458</td>\n",
       "      <td>Someone1234</td>\n",
       "      <td>Someone1234</td>\n",
       "      <td>1412864106</td>\n",
       "      <td>2014-10-09 14:15:06+00:00</td>\n",
       "      <td>Is this an advert for Sensor Tower? Certainly ...</td>\n",
       "      <td>8431622</td>\n",
       "      <td>None</td>\n",
       "      <td>None</td>\n",
       "      <td>0</td>\n",
       "    </tr>\n",
       "  </tbody>\n",
       "</table>\n",
       "<p>546534 rows × 10 columns</p>\n",
       "</div>"
      ],
      "text/plain": [
       "               id               by           author        time  \\\n",
       "3        10379190  copsarebastards  copsarebastards  1444725645   \n",
       "5        10379188          laumars          laumars  1444725615   \n",
       "10       10379183       wingerlang       wingerlang  1444725567   \n",
       "19       10379172           simonh           simonh  1444725371   \n",
       "20       10379171        dogma1138        dogma1138  1444725370   \n",
       "...           ...              ...              ...         ...   \n",
       "1599969   8432494      JoeAltmaier      JoeAltmaier  1412864515   \n",
       "1599973   8432489           davidw           davidw  1412864460   \n",
       "1599983   8432475     seanmcdirmid     seanmcdirmid  1412864324   \n",
       "1599996   8432459             dmix             dmix  1412864128   \n",
       "1599997   8432458      Someone1234      Someone1234  1412864106   \n",
       "\n",
       "                          time_ts  \\\n",
       "3       2015-10-13 08:40:45+00:00   \n",
       "5       2015-10-13 08:40:15+00:00   \n",
       "10      2015-10-13 08:39:27+00:00   \n",
       "19      2015-10-13 08:36:11+00:00   \n",
       "20      2015-10-13 08:36:10+00:00   \n",
       "...                           ...   \n",
       "1599969 2014-10-09 14:21:55+00:00   \n",
       "1599973 2014-10-09 14:21:00+00:00   \n",
       "1599983 2014-10-09 14:18:44+00:00   \n",
       "1599996 2014-10-09 14:15:28+00:00   \n",
       "1599997 2014-10-09 14:15:06+00:00   \n",
       "\n",
       "                                                      text    parent deleted  \\\n",
       "3        &gt; Why do you care about the success of the ...  10376640    None   \n",
       "5        I&#x27;m really not sure where you&#x27;re get...  10378047    None   \n",
       "10       I haven&#x27;t looked into it, but I would ass...  10379064    None   \n",
       "19       Nobody is arguing that incorrectly issued tick...  10379022    None   \n",
       "20       I&#x27;m pretty VMWare&#x27;s stock devalued i...  10377792    None   \n",
       "...                                                    ...       ...     ...   \n",
       "1599969  Much of the bad is cultural. Americans are imp...   8432412    None   \n",
       "1599973  From patio11:<p>&quot;There is no chasm in Ame...   8432199    None   \n",
       "1599983  Also in Redmond. Many are RSDEs, but there are...   8432250    None   \n",
       "1599996  There are plenty. Here are a few off the top o...   8432424    None   \n",
       "1599997  Is this an advert for Sensor Tower? Certainly ...   8431622    None   \n",
       "\n",
       "         dead  ranking  \n",
       "3        None        0  \n",
       "5        None        0  \n",
       "10       None        0  \n",
       "19       None        0  \n",
       "20       None        0  \n",
       "...       ...      ...  \n",
       "1599969  None        1  \n",
       "1599973  None        0  \n",
       "1599983  None        0  \n",
       "1599996  None        0  \n",
       "1599997  None        0  \n",
       "\n",
       "[546534 rows x 10 columns]"
      ]
     },
     "execution_count": 48,
     "metadata": {},
     "output_type": "execute_result"
    }
   ],
   "source": [
    "top_1000_comments = df[df[\"author\"].isin(top_1000)]\n",
    "top_1000_comments"
   ]
  },
  {
   "cell_type": "code",
   "execution_count": 59,
   "metadata": {},
   "outputs": [
    {
     "data": {
      "text/plain": [
       "{'neg': 0.092, 'neu': 0.699, 'pos': 0.209, 'compound': 0.9226}"
      ]
     },
     "execution_count": 59,
     "metadata": {},
     "output_type": "execute_result"
    }
   ],
   "source": [
    "from vaderSentiment.vaderSentiment import SentimentIntensityAnalyzer\n",
    "\n",
    "analyzer = SentimentIntensityAnalyzer()\n",
    "analyzer.polarity_scores(top_1000_comments[\"text\"].iloc[0])"
   ]
  },
  {
   "cell_type": "code",
   "execution_count": 60,
   "metadata": {},
   "outputs": [
    {
     "name": "stderr",
     "output_type": "stream",
     "text": [
      "/home/cowley/venv/lambda/lib/python3.6/site-packages/ipykernel_launcher.py:1: SettingWithCopyWarning: \n",
      "A value is trying to be set on a copy of a slice from a DataFrame.\n",
      "Try using .loc[row_indexer,col_indexer] = value instead\n",
      "\n",
      "See the caveats in the documentation: https://pandas.pydata.org/pandas-docs/stable/user_guide/indexing.html#returning-a-view-versus-a-copy\n",
      "  \"\"\"Entry point for launching an IPython kernel.\n"
     ]
    }
   ],
   "source": [
    "top_1000_comments[\"saltiness\"] = top_1000_comments[\"text\"].apply(lambda x: analyzer.polarity_scores(x)[\"neg\"])"
   ]
  },
  {
   "cell_type": "code",
   "execution_count": 76,
   "metadata": {},
   "outputs": [
    {
     "name": "stdout",
     "output_type": "stream",
     "text": [
      "0 / 1500001 -- 0.00%\n",
      "10000 / 1500001 -- 0.67%\n",
      "20000 / 1500001 -- 1.33%\n",
      "30000 / 1500001 -- 2.00%\n",
      "40000 / 1500001 -- 2.67%\n",
      "50000 / 1500001 -- 3.33%\n",
      "60000 / 1500001 -- 4.00%\n",
      "70000 / 1500001 -- 4.67%\n",
      "80000 / 1500001 -- 5.33%\n",
      "90000 / 1500001 -- 6.00%\n",
      "100000 / 1500001 -- 6.67%\n",
      "110000 / 1500001 -- 7.33%\n",
      "120000 / 1500001 -- 8.00%\n",
      "130000 / 1500001 -- 8.67%\n",
      "140000 / 1500001 -- 9.33%\n",
      "150000 / 1500001 -- 10.00%\n",
      "160000 / 1500001 -- 10.67%\n",
      "170000 / 1500001 -- 11.33%\n",
      "180000 / 1500001 -- 12.00%\n",
      "190000 / 1500001 -- 12.67%\n",
      "200000 / 1500001 -- 13.33%\n",
      "210000 / 1500001 -- 14.00%\n",
      "220000 / 1500001 -- 14.67%\n",
      "230000 / 1500001 -- 15.33%\n",
      "240000 / 1500001 -- 16.00%\n",
      "250000 / 1500001 -- 16.67%\n",
      "260000 / 1500001 -- 17.33%\n",
      "270000 / 1500001 -- 18.00%\n",
      "280000 / 1500001 -- 18.67%\n",
      "290000 / 1500001 -- 19.33%\n",
      "300000 / 1500001 -- 20.00%\n",
      "310000 / 1500001 -- 20.67%\n",
      "320000 / 1500001 -- 21.33%\n",
      "330000 / 1500001 -- 22.00%\n",
      "340000 / 1500001 -- 22.67%\n",
      "350000 / 1500001 -- 23.33%\n",
      "360000 / 1500001 -- 24.00%\n",
      "370000 / 1500001 -- 24.67%\n",
      "380000 / 1500001 -- 25.33%\n",
      "390000 / 1500001 -- 26.00%\n",
      "400000 / 1500001 -- 26.67%\n",
      "410000 / 1500001 -- 27.33%\n",
      "420000 / 1500001 -- 28.00%\n",
      "430000 / 1500001 -- 28.67%\n",
      "440000 / 1500001 -- 29.33%\n",
      "450000 / 1500001 -- 30.00%\n",
      "460000 / 1500001 -- 30.67%\n",
      "470000 / 1500001 -- 31.33%\n",
      "480000 / 1500001 -- 32.00%\n",
      "490000 / 1500001 -- 32.67%\n",
      "500000 / 1500001 -- 33.33%\n",
      "510000 / 1500001 -- 34.00%\n",
      "520000 / 1500001 -- 34.67%\n",
      "530000 / 1500001 -- 35.33%\n",
      "540000 / 1500001 -- 36.00%\n",
      "550000 / 1500001 -- 36.67%\n",
      "560000 / 1500001 -- 37.33%\n",
      "570000 / 1500001 -- 38.00%\n",
      "580000 / 1500001 -- 38.67%\n",
      "590000 / 1500001 -- 39.33%\n",
      "600000 / 1500001 -- 40.00%\n",
      "610000 / 1500001 -- 40.67%\n",
      "620000 / 1500001 -- 41.33%\n",
      "630000 / 1500001 -- 42.00%\n",
      "640000 / 1500001 -- 42.67%\n",
      "650000 / 1500001 -- 43.33%\n",
      "660000 / 1500001 -- 44.00%\n",
      "670000 / 1500001 -- 44.67%\n",
      "680000 / 1500001 -- 45.33%\n",
      "690000 / 1500001 -- 46.00%\n",
      "700000 / 1500001 -- 46.67%\n",
      "710000 / 1500001 -- 47.33%\n",
      "720000 / 1500001 -- 48.00%\n",
      "730000 / 1500001 -- 48.67%\n",
      "740000 / 1500001 -- 49.33%\n",
      "750000 / 1500001 -- 50.00%\n",
      "760000 / 1500001 -- 50.67%\n",
      "770000 / 1500001 -- 51.33%\n",
      "780000 / 1500001 -- 52.00%\n",
      "790000 / 1500001 -- 52.67%\n",
      "800000 / 1500001 -- 53.33%\n",
      "810000 / 1500001 -- 54.00%\n",
      "820000 / 1500001 -- 54.67%\n",
      "830000 / 1500001 -- 55.33%\n",
      "840000 / 1500001 -- 56.00%\n",
      "850000 / 1500001 -- 56.67%\n",
      "860000 / 1500001 -- 57.33%\n",
      "870000 / 1500001 -- 58.00%\n",
      "880000 / 1500001 -- 58.67%\n",
      "890000 / 1500001 -- 59.33%\n",
      "900000 / 1500001 -- 60.00%\n",
      "910000 / 1500001 -- 60.67%\n",
      "920000 / 1500001 -- 61.33%\n",
      "930000 / 1500001 -- 62.00%\n",
      "940000 / 1500001 -- 62.67%\n",
      "950000 / 1500001 -- 63.33%\n",
      "960000 / 1500001 -- 64.00%\n",
      "970000 / 1500001 -- 64.67%\n",
      "980000 / 1500001 -- 65.33%\n",
      "990000 / 1500001 -- 66.00%\n",
      "1000000 / 1500001 -- 66.67%\n",
      "1010000 / 1500001 -- 67.33%\n",
      "1020000 / 1500001 -- 68.00%\n",
      "1030000 / 1500001 -- 68.67%\n",
      "1040000 / 1500001 -- 69.33%\n",
      "1050000 / 1500001 -- 70.00%\n",
      "1060000 / 1500001 -- 70.67%\n",
      "1070000 / 1500001 -- 71.33%\n",
      "1080000 / 1500001 -- 72.00%\n",
      "1090000 / 1500001 -- 72.67%\n",
      "1100000 / 1500001 -- 73.33%\n",
      "1110000 / 1500001 -- 74.00%\n",
      "1120000 / 1500001 -- 74.67%\n",
      "1130000 / 1500001 -- 75.33%\n",
      "1140000 / 1500001 -- 76.00%\n",
      "1150000 / 1500001 -- 76.67%\n",
      "1160000 / 1500001 -- 77.33%\n",
      "1170000 / 1500001 -- 78.00%\n",
      "1180000 / 1500001 -- 78.67%\n",
      "1190000 / 1500001 -- 79.33%\n",
      "1200000 / 1500001 -- 80.00%\n",
      "1210000 / 1500001 -- 80.67%\n",
      "1220000 / 1500001 -- 81.33%\n",
      "1230000 / 1500001 -- 82.00%\n",
      "1240000 / 1500001 -- 82.67%\n",
      "1250000 / 1500001 -- 83.33%\n",
      "1260000 / 1500001 -- 84.00%\n",
      "1270000 / 1500001 -- 84.67%\n",
      "1280000 / 1500001 -- 85.33%\n",
      "1290000 / 1500001 -- 86.00%\n",
      "1300000 / 1500001 -- 86.67%\n",
      "1310000 / 1500001 -- 87.33%\n",
      "1320000 / 1500001 -- 88.00%\n",
      "1330000 / 1500001 -- 88.67%\n",
      "1340000 / 1500001 -- 89.33%\n",
      "1350000 / 1500001 -- 90.00%\n",
      "1360000 / 1500001 -- 90.67%\n",
      "1370000 / 1500001 -- 91.33%\n",
      "1380000 / 1500001 -- 92.00%\n",
      "1390000 / 1500001 -- 92.67%\n",
      "1400000 / 1500001 -- 93.33%\n",
      "1410000 / 1500001 -- 94.00%\n",
      "1420000 / 1500001 -- 94.67%\n",
      "1430000 / 1500001 -- 95.33%\n",
      "1440000 / 1500001 -- 96.00%\n",
      "1450000 / 1500001 -- 96.67%\n",
      "1460000 / 1500001 -- 97.33%\n",
      "1470000 / 1500001 -- 98.00%\n",
      "1480000 / 1500001 -- 98.67%\n",
      "1490000 / 1500001 -- 99.33%\n",
      "1500000 / 1500001 -- 100.00%\n"
     ]
    },
    {
     "ename": "JSONDecodeError",
     "evalue": "Expecting value: line 1 column 1 (char 0)",
     "output_type": "error",
     "traceback": [
      "\u001b[0;31m---------------------------------------------------------------------------\u001b[0m",
      "\u001b[0;31mJSONDecodeError\u001b[0m                           Traceback (most recent call last)",
      "\u001b[0;32m<ipython-input-76-a0428b714055>\u001b[0m in \u001b[0;36m<module>\u001b[0;34m\u001b[0m\n\u001b[1;32m     12\u001b[0m \u001b[0;34m\u001b[0m\u001b[0m\n\u001b[1;32m     13\u001b[0m     \u001b[0;32mwith\u001b[0m \u001b[0mopen\u001b[0m\u001b[0;34m(\u001b[0m\u001b[0;34m\"json/\"\u001b[0m\u001b[0;34m+\u001b[0m\u001b[0mfilename\u001b[0m\u001b[0;34m,\u001b[0m \u001b[0;34m\"r\"\u001b[0m\u001b[0;34m)\u001b[0m \u001b[0;32mas\u001b[0m \u001b[0mf\u001b[0m\u001b[0;34m:\u001b[0m\u001b[0;34m\u001b[0m\u001b[0;34m\u001b[0m\u001b[0m\n\u001b[0;32m---> 14\u001b[0;31m         \u001b[0mjs\u001b[0m \u001b[0;34m=\u001b[0m \u001b[0mjson\u001b[0m\u001b[0;34m.\u001b[0m\u001b[0mload\u001b[0m\u001b[0;34m(\u001b[0m\u001b[0mf\u001b[0m\u001b[0;34m)\u001b[0m\u001b[0;34m\u001b[0m\u001b[0;34m\u001b[0m\u001b[0m\n\u001b[0m\u001b[1;32m     15\u001b[0m \u001b[0;34m\u001b[0m\u001b[0m\n\u001b[1;32m     16\u001b[0m     \u001b[0;32mif\u001b[0m \u001b[0;32mnot\u001b[0m \u001b[0mjs\u001b[0m\u001b[0;34m:\u001b[0m\u001b[0;34m\u001b[0m\u001b[0;34m\u001b[0m\u001b[0m\n",
      "\u001b[0;32m/usr/lib/python3.6/json/__init__.py\u001b[0m in \u001b[0;36mload\u001b[0;34m(fp, cls, object_hook, parse_float, parse_int, parse_constant, object_pairs_hook, **kw)\u001b[0m\n\u001b[1;32m    297\u001b[0m         \u001b[0mcls\u001b[0m\u001b[0;34m=\u001b[0m\u001b[0mcls\u001b[0m\u001b[0;34m,\u001b[0m \u001b[0mobject_hook\u001b[0m\u001b[0;34m=\u001b[0m\u001b[0mobject_hook\u001b[0m\u001b[0;34m,\u001b[0m\u001b[0;34m\u001b[0m\u001b[0;34m\u001b[0m\u001b[0m\n\u001b[1;32m    298\u001b[0m         \u001b[0mparse_float\u001b[0m\u001b[0;34m=\u001b[0m\u001b[0mparse_float\u001b[0m\u001b[0;34m,\u001b[0m \u001b[0mparse_int\u001b[0m\u001b[0;34m=\u001b[0m\u001b[0mparse_int\u001b[0m\u001b[0;34m,\u001b[0m\u001b[0;34m\u001b[0m\u001b[0;34m\u001b[0m\u001b[0m\n\u001b[0;32m--> 299\u001b[0;31m         parse_constant=parse_constant, object_pairs_hook=object_pairs_hook, **kw)\n\u001b[0m\u001b[1;32m    300\u001b[0m \u001b[0;34m\u001b[0m\u001b[0m\n\u001b[1;32m    301\u001b[0m \u001b[0;34m\u001b[0m\u001b[0m\n",
      "\u001b[0;32m/usr/lib/python3.6/json/__init__.py\u001b[0m in \u001b[0;36mloads\u001b[0;34m(s, encoding, cls, object_hook, parse_float, parse_int, parse_constant, object_pairs_hook, **kw)\u001b[0m\n\u001b[1;32m    352\u001b[0m             \u001b[0mparse_int\u001b[0m \u001b[0;32mis\u001b[0m \u001b[0;32mNone\u001b[0m \u001b[0;32mand\u001b[0m \u001b[0mparse_float\u001b[0m \u001b[0;32mis\u001b[0m \u001b[0;32mNone\u001b[0m \u001b[0;32mand\u001b[0m\u001b[0;34m\u001b[0m\u001b[0;34m\u001b[0m\u001b[0m\n\u001b[1;32m    353\u001b[0m             parse_constant is None and object_pairs_hook is None and not kw):\n\u001b[0;32m--> 354\u001b[0;31m         \u001b[0;32mreturn\u001b[0m \u001b[0m_default_decoder\u001b[0m\u001b[0;34m.\u001b[0m\u001b[0mdecode\u001b[0m\u001b[0;34m(\u001b[0m\u001b[0ms\u001b[0m\u001b[0;34m)\u001b[0m\u001b[0;34m\u001b[0m\u001b[0;34m\u001b[0m\u001b[0m\n\u001b[0m\u001b[1;32m    355\u001b[0m     \u001b[0;32mif\u001b[0m \u001b[0mcls\u001b[0m \u001b[0;32mis\u001b[0m \u001b[0;32mNone\u001b[0m\u001b[0;34m:\u001b[0m\u001b[0;34m\u001b[0m\u001b[0;34m\u001b[0m\u001b[0m\n\u001b[1;32m    356\u001b[0m         \u001b[0mcls\u001b[0m \u001b[0;34m=\u001b[0m \u001b[0mJSONDecoder\u001b[0m\u001b[0;34m\u001b[0m\u001b[0;34m\u001b[0m\u001b[0m\n",
      "\u001b[0;32m/usr/lib/python3.6/json/decoder.py\u001b[0m in \u001b[0;36mdecode\u001b[0;34m(self, s, _w)\u001b[0m\n\u001b[1;32m    337\u001b[0m \u001b[0;34m\u001b[0m\u001b[0m\n\u001b[1;32m    338\u001b[0m         \"\"\"\n\u001b[0;32m--> 339\u001b[0;31m         \u001b[0mobj\u001b[0m\u001b[0;34m,\u001b[0m \u001b[0mend\u001b[0m \u001b[0;34m=\u001b[0m \u001b[0mself\u001b[0m\u001b[0;34m.\u001b[0m\u001b[0mraw_decode\u001b[0m\u001b[0;34m(\u001b[0m\u001b[0ms\u001b[0m\u001b[0;34m,\u001b[0m \u001b[0midx\u001b[0m\u001b[0;34m=\u001b[0m\u001b[0m_w\u001b[0m\u001b[0;34m(\u001b[0m\u001b[0ms\u001b[0m\u001b[0;34m,\u001b[0m \u001b[0;36m0\u001b[0m\u001b[0;34m)\u001b[0m\u001b[0;34m.\u001b[0m\u001b[0mend\u001b[0m\u001b[0;34m(\u001b[0m\u001b[0;34m)\u001b[0m\u001b[0;34m)\u001b[0m\u001b[0;34m\u001b[0m\u001b[0;34m\u001b[0m\u001b[0m\n\u001b[0m\u001b[1;32m    340\u001b[0m         \u001b[0mend\u001b[0m \u001b[0;34m=\u001b[0m \u001b[0m_w\u001b[0m\u001b[0;34m(\u001b[0m\u001b[0ms\u001b[0m\u001b[0;34m,\u001b[0m \u001b[0mend\u001b[0m\u001b[0;34m)\u001b[0m\u001b[0;34m.\u001b[0m\u001b[0mend\u001b[0m\u001b[0;34m(\u001b[0m\u001b[0;34m)\u001b[0m\u001b[0;34m\u001b[0m\u001b[0;34m\u001b[0m\u001b[0m\n\u001b[1;32m    341\u001b[0m         \u001b[0;32mif\u001b[0m \u001b[0mend\u001b[0m \u001b[0;34m!=\u001b[0m \u001b[0mlen\u001b[0m\u001b[0;34m(\u001b[0m\u001b[0ms\u001b[0m\u001b[0;34m)\u001b[0m\u001b[0;34m:\u001b[0m\u001b[0;34m\u001b[0m\u001b[0;34m\u001b[0m\u001b[0m\n",
      "\u001b[0;32m/usr/lib/python3.6/json/decoder.py\u001b[0m in \u001b[0;36mraw_decode\u001b[0;34m(self, s, idx)\u001b[0m\n\u001b[1;32m    355\u001b[0m             \u001b[0mobj\u001b[0m\u001b[0;34m,\u001b[0m \u001b[0mend\u001b[0m \u001b[0;34m=\u001b[0m \u001b[0mself\u001b[0m\u001b[0;34m.\u001b[0m\u001b[0mscan_once\u001b[0m\u001b[0;34m(\u001b[0m\u001b[0ms\u001b[0m\u001b[0;34m,\u001b[0m \u001b[0midx\u001b[0m\u001b[0;34m)\u001b[0m\u001b[0;34m\u001b[0m\u001b[0;34m\u001b[0m\u001b[0m\n\u001b[1;32m    356\u001b[0m         \u001b[0;32mexcept\u001b[0m \u001b[0mStopIteration\u001b[0m \u001b[0;32mas\u001b[0m \u001b[0merr\u001b[0m\u001b[0;34m:\u001b[0m\u001b[0;34m\u001b[0m\u001b[0;34m\u001b[0m\u001b[0m\n\u001b[0;32m--> 357\u001b[0;31m             \u001b[0;32mraise\u001b[0m \u001b[0mJSONDecodeError\u001b[0m\u001b[0;34m(\u001b[0m\u001b[0;34m\"Expecting value\"\u001b[0m\u001b[0;34m,\u001b[0m \u001b[0ms\u001b[0m\u001b[0;34m,\u001b[0m \u001b[0merr\u001b[0m\u001b[0;34m.\u001b[0m\u001b[0mvalue\u001b[0m\u001b[0;34m)\u001b[0m \u001b[0;32mfrom\u001b[0m \u001b[0;32mNone\u001b[0m\u001b[0;34m\u001b[0m\u001b[0;34m\u001b[0m\u001b[0m\n\u001b[0m\u001b[1;32m    358\u001b[0m         \u001b[0;32mreturn\u001b[0m \u001b[0mobj\u001b[0m\u001b[0;34m,\u001b[0m \u001b[0mend\u001b[0m\u001b[0;34m\u001b[0m\u001b[0;34m\u001b[0m\u001b[0m\n",
      "\u001b[0;31mJSONDecodeError\u001b[0m: Expecting value: line 1 column 1 (char 0)"
     ]
    }
   ],
   "source": [
    "import os\n",
    "import json\n",
    "\n",
    "res = []\n",
    "filenames = os.listdir(\"json/\")\n",
    "\n",
    "\n",
    "for ix, filename in enumerate(filenames):\n",
    "    \n",
    "    if ix%10000 == 0:\n",
    "        print(f\"{ix} / {len(filenames)} -- {ix/len(filenames)*100:.2f}%\")\n",
    "    \n",
    "    with open(\"json/\"+filename, \"r\") as f:\n",
    "        js = json.load(f)\n",
    "    \n",
    "    if not js:\n",
    "        continue\n",
    "        \n",
    "    res.append([\n",
    "        js[\"id\"],\n",
    "        js[\"by\"] if \"by\" in js else (js[\"author\"] if \"author\" in js else \"\"),\n",
    "        js[\"time\"],\n",
    "        js[\"text\"] if \"text\" in js else \"\",\n",
    "        js[\"deleted\"] if \"deleted\" in js else False,\n",
    "        js[\"type\"] if \"type\" in js else \"comment\",\n",
    "        js[\"parent\"] if \"parent\" in js else \"\",\n",
    "    ])"
   ]
  },
  {
   "cell_type": "code",
   "execution_count": 77,
   "metadata": {},
   "outputs": [
    {
     "name": "stdout",
     "output_type": "stream",
     "text": [
      "1499356\n"
     ]
    }
   ],
   "source": [
    "print(len(res))"
   ]
  },
  {
   "cell_type": "code",
   "execution_count": 78,
   "metadata": {},
   "outputs": [
    {
     "name": "stdout",
     "output_type": "stream",
     "text": [
      "39263\n"
     ]
    }
   ],
   "source": [
    "print(sum(1 for x in res if x[4]))"
   ]
  },
  {
   "cell_type": "code",
   "execution_count": 79,
   "metadata": {},
   "outputs": [
    {
     "name": "stdout",
     "output_type": "stream",
     "text": [
      "{'poll', 'story', 'job', 'comment', 'pollopt'}\n"
     ]
    }
   ],
   "source": [
    "print(set(x[5] for x in res))"
   ]
  },
  {
   "cell_type": "code",
   "execution_count": 81,
   "metadata": {},
   "outputs": [],
   "source": [
    "import pandas as pd\n",
    "\n",
    "hn_df = pd.DataFrame(\n",
    "    data=res,\n",
    "    columns=[\n",
    "        \"id\",\n",
    "        \"author\",\n",
    "        \"time\",\n",
    "        \"text\",\n",
    "        \"deleted\",\n",
    "        \"type\",\n",
    "        \"parent\",\n",
    "    ]\n",
    ")"
   ]
  },
  {
   "cell_type": "code",
   "execution_count": 83,
   "metadata": {},
   "outputs": [
    {
     "name": "stdout",
     "output_type": "stream",
     "text": [
      " 2749706.json\t generate-hn-uri.sh   json\t  service\n",
      " csv\t\t hn.csv\t\t      LICENSE\t 'Tax Return 2018.pdf'\n",
      " explore.ipynb\t hn-uri.txt\t      README.md\n"
     ]
    }
   ],
   "source": [
    "!ls"
   ]
  },
  {
   "cell_type": "code",
   "execution_count": 84,
   "metadata": {},
   "outputs": [],
   "source": [
    "hn_df.to_csv(\"csv/most_recent_1_5mm.csv\")"
   ]
  },
  {
   "cell_type": "code",
   "execution_count": null,
   "metadata": {},
   "outputs": [],
   "source": []
  }
 ],
 "metadata": {
  "kernelspec": {
   "display_name": "Python 3",
   "language": "python",
   "name": "python3"
  },
  "language_info": {
   "codemirror_mode": {
    "name": "ipython",
    "version": 3
   },
   "file_extension": ".py",
   "mimetype": "text/x-python",
   "name": "python",
   "nbconvert_exporter": "python",
   "pygments_lexer": "ipython3",
   "version": "3.6.9"
  }
 },
 "nbformat": 4,
 "nbformat_minor": 4
}
